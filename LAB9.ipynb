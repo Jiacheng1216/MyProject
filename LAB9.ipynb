{
  "nbformat": 4,
  "nbformat_minor": 0,
  "metadata": {
    "colab": {
      "name": "LAB9.ipynb",
      "provenance": [],
      "machine_shape": "hm",
      "collapsed_sections": [],
      "authorship_tag": "ABX9TyN23qSTUXkMNfwyZiTubr1f",
      "include_colab_link": true
    },
    "kernelspec": {
      "name": "python3",
      "display_name": "Python 3"
    },
    "language_info": {
      "name": "python"
    },
    "accelerator": "GPU",
    "widgets": {
      "application/vnd.jupyter.widget-state+json": {
        "2aa6fef125634bdfaf5fc3dfbb82fe75": {
          "model_module": "@jupyter-widgets/controls",
          "model_name": "HBoxModel",
          "model_module_version": "1.5.0",
          "state": {
            "_view_name": "HBoxView",
            "_dom_classes": [],
            "_model_name": "HBoxModel",
            "_view_module": "@jupyter-widgets/controls",
            "_model_module_version": "1.5.0",
            "_view_count": null,
            "_view_module_version": "1.5.0",
            "box_style": "",
            "layout": "IPY_MODEL_f00eaf06d46c48ba8abd19dc3e2c2412",
            "_model_module": "@jupyter-widgets/controls",
            "children": [
              "IPY_MODEL_0dad4694505b4874915b0aa33c496389",
              "IPY_MODEL_7dd395876c434c9bbd45811d24776c5c",
              "IPY_MODEL_9b44e768f8c845fb9b0c3382ef7ed4eb"
            ]
          }
        },
        "f00eaf06d46c48ba8abd19dc3e2c2412": {
          "model_module": "@jupyter-widgets/base",
          "model_name": "LayoutModel",
          "model_module_version": "1.2.0",
          "state": {
            "_view_name": "LayoutView",
            "grid_template_rows": null,
            "right": null,
            "justify_content": null,
            "_view_module": "@jupyter-widgets/base",
            "overflow": null,
            "_model_module_version": "1.2.0",
            "_view_count": null,
            "flex_flow": null,
            "width": null,
            "min_width": null,
            "border": null,
            "align_items": null,
            "bottom": null,
            "_model_module": "@jupyter-widgets/base",
            "top": null,
            "grid_column": null,
            "overflow_y": null,
            "overflow_x": null,
            "grid_auto_flow": null,
            "grid_area": null,
            "grid_template_columns": null,
            "flex": null,
            "_model_name": "LayoutModel",
            "justify_items": null,
            "grid_row": null,
            "max_height": null,
            "align_content": null,
            "visibility": null,
            "align_self": null,
            "height": null,
            "min_height": null,
            "padding": null,
            "grid_auto_rows": null,
            "grid_gap": null,
            "max_width": null,
            "order": null,
            "_view_module_version": "1.2.0",
            "grid_template_areas": null,
            "object_position": null,
            "object_fit": null,
            "grid_auto_columns": null,
            "margin": null,
            "display": null,
            "left": null
          }
        },
        "0dad4694505b4874915b0aa33c496389": {
          "model_module": "@jupyter-widgets/controls",
          "model_name": "HTMLModel",
          "model_module_version": "1.5.0",
          "state": {
            "_view_name": "HTMLView",
            "style": "IPY_MODEL_4be51b49870b4cf1b03d40e6c018aff7",
            "_dom_classes": [],
            "description": "",
            "_model_name": "HTMLModel",
            "placeholder": "​",
            "_view_module": "@jupyter-widgets/controls",
            "_model_module_version": "1.5.0",
            "value": "Dl Completed...: 100%",
            "_view_count": null,
            "_view_module_version": "1.5.0",
            "description_tooltip": null,
            "_model_module": "@jupyter-widgets/controls",
            "layout": "IPY_MODEL_978a9a96047f49d0a8ecc14beb9921ab"
          }
        },
        "7dd395876c434c9bbd45811d24776c5c": {
          "model_module": "@jupyter-widgets/controls",
          "model_name": "FloatProgressModel",
          "model_module_version": "1.5.0",
          "state": {
            "_view_name": "ProgressView",
            "style": "IPY_MODEL_72fbdbdb28ff4431bbb0d0ad7dad2a17",
            "_dom_classes": [],
            "description": "",
            "_model_name": "FloatProgressModel",
            "bar_style": "success",
            "max": 1,
            "_view_module": "@jupyter-widgets/controls",
            "_model_module_version": "1.5.0",
            "value": 1,
            "_view_count": null,
            "_view_module_version": "1.5.0",
            "orientation": "horizontal",
            "min": 0,
            "description_tooltip": null,
            "_model_module": "@jupyter-widgets/controls",
            "layout": "IPY_MODEL_c32c6fd6e6e74b68b34b2498048698b6"
          }
        },
        "9b44e768f8c845fb9b0c3382ef7ed4eb": {
          "model_module": "@jupyter-widgets/controls",
          "model_name": "HTMLModel",
          "model_module_version": "1.5.0",
          "state": {
            "_view_name": "HTMLView",
            "style": "IPY_MODEL_0e9cbdd46ace46cbaee9396642615385",
            "_dom_classes": [],
            "description": "",
            "_model_name": "HTMLModel",
            "placeholder": "​",
            "_view_module": "@jupyter-widgets/controls",
            "_model_module_version": "1.5.0",
            "value": " 1/1 [00:08&lt;00:00,  8.50s/ url]",
            "_view_count": null,
            "_view_module_version": "1.5.0",
            "description_tooltip": null,
            "_model_module": "@jupyter-widgets/controls",
            "layout": "IPY_MODEL_6f1bdc32e5154f02b8fff45c588d7aae"
          }
        },
        "4be51b49870b4cf1b03d40e6c018aff7": {
          "model_module": "@jupyter-widgets/controls",
          "model_name": "DescriptionStyleModel",
          "model_module_version": "1.5.0",
          "state": {
            "_view_name": "StyleView",
            "_model_name": "DescriptionStyleModel",
            "description_width": "",
            "_view_module": "@jupyter-widgets/base",
            "_model_module_version": "1.5.0",
            "_view_count": null,
            "_view_module_version": "1.2.0",
            "_model_module": "@jupyter-widgets/controls"
          }
        },
        "978a9a96047f49d0a8ecc14beb9921ab": {
          "model_module": "@jupyter-widgets/base",
          "model_name": "LayoutModel",
          "model_module_version": "1.2.0",
          "state": {
            "_view_name": "LayoutView",
            "grid_template_rows": null,
            "right": null,
            "justify_content": null,
            "_view_module": "@jupyter-widgets/base",
            "overflow": null,
            "_model_module_version": "1.2.0",
            "_view_count": null,
            "flex_flow": null,
            "width": null,
            "min_width": null,
            "border": null,
            "align_items": null,
            "bottom": null,
            "_model_module": "@jupyter-widgets/base",
            "top": null,
            "grid_column": null,
            "overflow_y": null,
            "overflow_x": null,
            "grid_auto_flow": null,
            "grid_area": null,
            "grid_template_columns": null,
            "flex": null,
            "_model_name": "LayoutModel",
            "justify_items": null,
            "grid_row": null,
            "max_height": null,
            "align_content": null,
            "visibility": null,
            "align_self": null,
            "height": null,
            "min_height": null,
            "padding": null,
            "grid_auto_rows": null,
            "grid_gap": null,
            "max_width": null,
            "order": null,
            "_view_module_version": "1.2.0",
            "grid_template_areas": null,
            "object_position": null,
            "object_fit": null,
            "grid_auto_columns": null,
            "margin": null,
            "display": null,
            "left": null
          }
        },
        "72fbdbdb28ff4431bbb0d0ad7dad2a17": {
          "model_module": "@jupyter-widgets/controls",
          "model_name": "ProgressStyleModel",
          "model_module_version": "1.5.0",
          "state": {
            "_view_name": "StyleView",
            "_model_name": "ProgressStyleModel",
            "description_width": "",
            "_view_module": "@jupyter-widgets/base",
            "_model_module_version": "1.5.0",
            "_view_count": null,
            "_view_module_version": "1.2.0",
            "bar_color": null,
            "_model_module": "@jupyter-widgets/controls"
          }
        },
        "c32c6fd6e6e74b68b34b2498048698b6": {
          "model_module": "@jupyter-widgets/base",
          "model_name": "LayoutModel",
          "model_module_version": "1.2.0",
          "state": {
            "_view_name": "LayoutView",
            "grid_template_rows": null,
            "right": null,
            "justify_content": null,
            "_view_module": "@jupyter-widgets/base",
            "overflow": null,
            "_model_module_version": "1.2.0",
            "_view_count": null,
            "flex_flow": null,
            "width": "20px",
            "min_width": null,
            "border": null,
            "align_items": null,
            "bottom": null,
            "_model_module": "@jupyter-widgets/base",
            "top": null,
            "grid_column": null,
            "overflow_y": null,
            "overflow_x": null,
            "grid_auto_flow": null,
            "grid_area": null,
            "grid_template_columns": null,
            "flex": null,
            "_model_name": "LayoutModel",
            "justify_items": null,
            "grid_row": null,
            "max_height": null,
            "align_content": null,
            "visibility": null,
            "align_self": null,
            "height": null,
            "min_height": null,
            "padding": null,
            "grid_auto_rows": null,
            "grid_gap": null,
            "max_width": null,
            "order": null,
            "_view_module_version": "1.2.0",
            "grid_template_areas": null,
            "object_position": null,
            "object_fit": null,
            "grid_auto_columns": null,
            "margin": null,
            "display": null,
            "left": null
          }
        },
        "0e9cbdd46ace46cbaee9396642615385": {
          "model_module": "@jupyter-widgets/controls",
          "model_name": "DescriptionStyleModel",
          "model_module_version": "1.5.0",
          "state": {
            "_view_name": "StyleView",
            "_model_name": "DescriptionStyleModel",
            "description_width": "",
            "_view_module": "@jupyter-widgets/base",
            "_model_module_version": "1.5.0",
            "_view_count": null,
            "_view_module_version": "1.2.0",
            "_model_module": "@jupyter-widgets/controls"
          }
        },
        "6f1bdc32e5154f02b8fff45c588d7aae": {
          "model_module": "@jupyter-widgets/base",
          "model_name": "LayoutModel",
          "model_module_version": "1.2.0",
          "state": {
            "_view_name": "LayoutView",
            "grid_template_rows": null,
            "right": null,
            "justify_content": null,
            "_view_module": "@jupyter-widgets/base",
            "overflow": null,
            "_model_module_version": "1.2.0",
            "_view_count": null,
            "flex_flow": null,
            "width": null,
            "min_width": null,
            "border": null,
            "align_items": null,
            "bottom": null,
            "_model_module": "@jupyter-widgets/base",
            "top": null,
            "grid_column": null,
            "overflow_y": null,
            "overflow_x": null,
            "grid_auto_flow": null,
            "grid_area": null,
            "grid_template_columns": null,
            "flex": null,
            "_model_name": "LayoutModel",
            "justify_items": null,
            "grid_row": null,
            "max_height": null,
            "align_content": null,
            "visibility": null,
            "align_self": null,
            "height": null,
            "min_height": null,
            "padding": null,
            "grid_auto_rows": null,
            "grid_gap": null,
            "max_width": null,
            "order": null,
            "_view_module_version": "1.2.0",
            "grid_template_areas": null,
            "object_position": null,
            "object_fit": null,
            "grid_auto_columns": null,
            "margin": null,
            "display": null,
            "left": null
          }
        },
        "549877643ae54ee3bc9e5fcc1650d479": {
          "model_module": "@jupyter-widgets/controls",
          "model_name": "HBoxModel",
          "model_module_version": "1.5.0",
          "state": {
            "_view_name": "HBoxView",
            "_dom_classes": [],
            "_model_name": "HBoxModel",
            "_view_module": "@jupyter-widgets/controls",
            "_model_module_version": "1.5.0",
            "_view_count": null,
            "_view_module_version": "1.5.0",
            "box_style": "",
            "layout": "IPY_MODEL_782794b4d3f84ae2b375f23a055e281e",
            "_model_module": "@jupyter-widgets/controls",
            "children": [
              "IPY_MODEL_7f520b80322c427baec1b3365d5e5552",
              "IPY_MODEL_ab075eb1c87d4307a2d695187a4f3a26",
              "IPY_MODEL_1a05424beff14b33aec4227023af8b0b"
            ]
          }
        },
        "782794b4d3f84ae2b375f23a055e281e": {
          "model_module": "@jupyter-widgets/base",
          "model_name": "LayoutModel",
          "model_module_version": "1.2.0",
          "state": {
            "_view_name": "LayoutView",
            "grid_template_rows": null,
            "right": null,
            "justify_content": null,
            "_view_module": "@jupyter-widgets/base",
            "overflow": null,
            "_model_module_version": "1.2.0",
            "_view_count": null,
            "flex_flow": null,
            "width": null,
            "min_width": null,
            "border": null,
            "align_items": null,
            "bottom": null,
            "_model_module": "@jupyter-widgets/base",
            "top": null,
            "grid_column": null,
            "overflow_y": null,
            "overflow_x": null,
            "grid_auto_flow": null,
            "grid_area": null,
            "grid_template_columns": null,
            "flex": null,
            "_model_name": "LayoutModel",
            "justify_items": null,
            "grid_row": null,
            "max_height": null,
            "align_content": null,
            "visibility": null,
            "align_self": null,
            "height": null,
            "min_height": null,
            "padding": null,
            "grid_auto_rows": null,
            "grid_gap": null,
            "max_width": null,
            "order": null,
            "_view_module_version": "1.2.0",
            "grid_template_areas": null,
            "object_position": null,
            "object_fit": null,
            "grid_auto_columns": null,
            "margin": null,
            "display": null,
            "left": null
          }
        },
        "7f520b80322c427baec1b3365d5e5552": {
          "model_module": "@jupyter-widgets/controls",
          "model_name": "HTMLModel",
          "model_module_version": "1.5.0",
          "state": {
            "_view_name": "HTMLView",
            "style": "IPY_MODEL_6be6fd14c662428b824b80ca5b938053",
            "_dom_classes": [],
            "description": "",
            "_model_name": "HTMLModel",
            "placeholder": "​",
            "_view_module": "@jupyter-widgets/controls",
            "_model_module_version": "1.5.0",
            "value": "Dl Size...: 100%",
            "_view_count": null,
            "_view_module_version": "1.5.0",
            "description_tooltip": null,
            "_model_module": "@jupyter-widgets/controls",
            "layout": "IPY_MODEL_816a6f1be1e24a2f9f591978cd3eec2d"
          }
        },
        "ab075eb1c87d4307a2d695187a4f3a26": {
          "model_module": "@jupyter-widgets/controls",
          "model_name": "FloatProgressModel",
          "model_module_version": "1.5.0",
          "state": {
            "_view_name": "ProgressView",
            "style": "IPY_MODEL_8ecdb14f9ed64dd1bddba712296b2209",
            "_dom_classes": [],
            "description": "",
            "_model_name": "FloatProgressModel",
            "bar_style": "success",
            "max": 1,
            "_view_module": "@jupyter-widgets/controls",
            "_model_module_version": "1.5.0",
            "value": 1,
            "_view_count": null,
            "_view_module_version": "1.5.0",
            "orientation": "horizontal",
            "min": 0,
            "description_tooltip": null,
            "_model_module": "@jupyter-widgets/controls",
            "layout": "IPY_MODEL_6a80dea1b3394225a3609161678ffdd5"
          }
        },
        "1a05424beff14b33aec4227023af8b0b": {
          "model_module": "@jupyter-widgets/controls",
          "model_name": "HTMLModel",
          "model_module_version": "1.5.0",
          "state": {
            "_view_name": "HTMLView",
            "style": "IPY_MODEL_0e4c7647dddf4ee6a66bad7dff674302",
            "_dom_classes": [],
            "description": "",
            "_model_name": "HTMLModel",
            "placeholder": "​",
            "_view_module": "@jupyter-widgets/controls",
            "_model_module_version": "1.5.0",
            "value": " 786/786 [00:08&lt;00:00, 95.69 MiB/s]",
            "_view_count": null,
            "_view_module_version": "1.5.0",
            "description_tooltip": null,
            "_model_module": "@jupyter-widgets/controls",
            "layout": "IPY_MODEL_bf19f131a67743afa1e905af83f5225f"
          }
        },
        "6be6fd14c662428b824b80ca5b938053": {
          "model_module": "@jupyter-widgets/controls",
          "model_name": "DescriptionStyleModel",
          "model_module_version": "1.5.0",
          "state": {
            "_view_name": "StyleView",
            "_model_name": "DescriptionStyleModel",
            "description_width": "",
            "_view_module": "@jupyter-widgets/base",
            "_model_module_version": "1.5.0",
            "_view_count": null,
            "_view_module_version": "1.2.0",
            "_model_module": "@jupyter-widgets/controls"
          }
        },
        "816a6f1be1e24a2f9f591978cd3eec2d": {
          "model_module": "@jupyter-widgets/base",
          "model_name": "LayoutModel",
          "model_module_version": "1.2.0",
          "state": {
            "_view_name": "LayoutView",
            "grid_template_rows": null,
            "right": null,
            "justify_content": null,
            "_view_module": "@jupyter-widgets/base",
            "overflow": null,
            "_model_module_version": "1.2.0",
            "_view_count": null,
            "flex_flow": null,
            "width": null,
            "min_width": null,
            "border": null,
            "align_items": null,
            "bottom": null,
            "_model_module": "@jupyter-widgets/base",
            "top": null,
            "grid_column": null,
            "overflow_y": null,
            "overflow_x": null,
            "grid_auto_flow": null,
            "grid_area": null,
            "grid_template_columns": null,
            "flex": null,
            "_model_name": "LayoutModel",
            "justify_items": null,
            "grid_row": null,
            "max_height": null,
            "align_content": null,
            "visibility": null,
            "align_self": null,
            "height": null,
            "min_height": null,
            "padding": null,
            "grid_auto_rows": null,
            "grid_gap": null,
            "max_width": null,
            "order": null,
            "_view_module_version": "1.2.0",
            "grid_template_areas": null,
            "object_position": null,
            "object_fit": null,
            "grid_auto_columns": null,
            "margin": null,
            "display": null,
            "left": null
          }
        },
        "8ecdb14f9ed64dd1bddba712296b2209": {
          "model_module": "@jupyter-widgets/controls",
          "model_name": "ProgressStyleModel",
          "model_module_version": "1.5.0",
          "state": {
            "_view_name": "StyleView",
            "_model_name": "ProgressStyleModel",
            "description_width": "",
            "_view_module": "@jupyter-widgets/base",
            "_model_module_version": "1.5.0",
            "_view_count": null,
            "_view_module_version": "1.2.0",
            "bar_color": null,
            "_model_module": "@jupyter-widgets/controls"
          }
        },
        "6a80dea1b3394225a3609161678ffdd5": {
          "model_module": "@jupyter-widgets/base",
          "model_name": "LayoutModel",
          "model_module_version": "1.2.0",
          "state": {
            "_view_name": "LayoutView",
            "grid_template_rows": null,
            "right": null,
            "justify_content": null,
            "_view_module": "@jupyter-widgets/base",
            "overflow": null,
            "_model_module_version": "1.2.0",
            "_view_count": null,
            "flex_flow": null,
            "width": "20px",
            "min_width": null,
            "border": null,
            "align_items": null,
            "bottom": null,
            "_model_module": "@jupyter-widgets/base",
            "top": null,
            "grid_column": null,
            "overflow_y": null,
            "overflow_x": null,
            "grid_auto_flow": null,
            "grid_area": null,
            "grid_template_columns": null,
            "flex": null,
            "_model_name": "LayoutModel",
            "justify_items": null,
            "grid_row": null,
            "max_height": null,
            "align_content": null,
            "visibility": null,
            "align_self": null,
            "height": null,
            "min_height": null,
            "padding": null,
            "grid_auto_rows": null,
            "grid_gap": null,
            "max_width": null,
            "order": null,
            "_view_module_version": "1.2.0",
            "grid_template_areas": null,
            "object_position": null,
            "object_fit": null,
            "grid_auto_columns": null,
            "margin": null,
            "display": null,
            "left": null
          }
        },
        "0e4c7647dddf4ee6a66bad7dff674302": {
          "model_module": "@jupyter-widgets/controls",
          "model_name": "DescriptionStyleModel",
          "model_module_version": "1.5.0",
          "state": {
            "_view_name": "StyleView",
            "_model_name": "DescriptionStyleModel",
            "description_width": "",
            "_view_module": "@jupyter-widgets/base",
            "_model_module_version": "1.5.0",
            "_view_count": null,
            "_view_module_version": "1.2.0",
            "_model_module": "@jupyter-widgets/controls"
          }
        },
        "bf19f131a67743afa1e905af83f5225f": {
          "model_module": "@jupyter-widgets/base",
          "model_name": "LayoutModel",
          "model_module_version": "1.2.0",
          "state": {
            "_view_name": "LayoutView",
            "grid_template_rows": null,
            "right": null,
            "justify_content": null,
            "_view_module": "@jupyter-widgets/base",
            "overflow": null,
            "_model_module_version": "1.2.0",
            "_view_count": null,
            "flex_flow": null,
            "width": null,
            "min_width": null,
            "border": null,
            "align_items": null,
            "bottom": null,
            "_model_module": "@jupyter-widgets/base",
            "top": null,
            "grid_column": null,
            "overflow_y": null,
            "overflow_x": null,
            "grid_auto_flow": null,
            "grid_area": null,
            "grid_template_columns": null,
            "flex": null,
            "_model_name": "LayoutModel",
            "justify_items": null,
            "grid_row": null,
            "max_height": null,
            "align_content": null,
            "visibility": null,
            "align_self": null,
            "height": null,
            "min_height": null,
            "padding": null,
            "grid_auto_rows": null,
            "grid_gap": null,
            "max_width": null,
            "order": null,
            "_view_module_version": "1.2.0",
            "grid_template_areas": null,
            "object_position": null,
            "object_fit": null,
            "grid_auto_columns": null,
            "margin": null,
            "display": null,
            "left": null
          }
        },
        "1249ccf5c2594b5bb0f90a16184af905": {
          "model_module": "@jupyter-widgets/controls",
          "model_name": "HBoxModel",
          "model_module_version": "1.5.0",
          "state": {
            "_view_name": "HBoxView",
            "_dom_classes": [],
            "_model_name": "HBoxModel",
            "_view_module": "@jupyter-widgets/controls",
            "_model_module_version": "1.5.0",
            "_view_count": null,
            "_view_module_version": "1.5.0",
            "box_style": "",
            "layout": "IPY_MODEL_bb7cfbe27777473e83abe61ef5838596",
            "_model_module": "@jupyter-widgets/controls",
            "children": [
              "IPY_MODEL_a4033208589342b08c867ceda3e3cf7b",
              "IPY_MODEL_dcda62208e8940e99f39879080166f02",
              "IPY_MODEL_262ec651088c4f4882ed587e4aac2d38"
            ]
          }
        },
        "bb7cfbe27777473e83abe61ef5838596": {
          "model_module": "@jupyter-widgets/base",
          "model_name": "LayoutModel",
          "model_module_version": "1.2.0",
          "state": {
            "_view_name": "LayoutView",
            "grid_template_rows": null,
            "right": null,
            "justify_content": null,
            "_view_module": "@jupyter-widgets/base",
            "overflow": null,
            "_model_module_version": "1.2.0",
            "_view_count": null,
            "flex_flow": null,
            "width": null,
            "min_width": null,
            "border": null,
            "align_items": null,
            "bottom": null,
            "_model_module": "@jupyter-widgets/base",
            "top": null,
            "grid_column": null,
            "overflow_y": null,
            "overflow_x": null,
            "grid_auto_flow": null,
            "grid_area": null,
            "grid_template_columns": null,
            "flex": null,
            "_model_name": "LayoutModel",
            "justify_items": null,
            "grid_row": null,
            "max_height": null,
            "align_content": null,
            "visibility": null,
            "align_self": null,
            "height": null,
            "min_height": null,
            "padding": null,
            "grid_auto_rows": null,
            "grid_gap": null,
            "max_width": null,
            "order": null,
            "_view_module_version": "1.2.0",
            "grid_template_areas": null,
            "object_position": null,
            "object_fit": null,
            "grid_auto_columns": null,
            "margin": null,
            "display": null,
            "left": null
          }
        },
        "a4033208589342b08c867ceda3e3cf7b": {
          "model_module": "@jupyter-widgets/controls",
          "model_name": "HTMLModel",
          "model_module_version": "1.5.0",
          "state": {
            "_view_name": "HTMLView",
            "style": "IPY_MODEL_5aa4774c22044b3daef71a0d72de7d44",
            "_dom_classes": [],
            "description": "",
            "_model_name": "HTMLModel",
            "placeholder": "​",
            "_view_module": "@jupyter-widgets/controls",
            "_model_module_version": "1.5.0",
            "value": "",
            "_view_count": null,
            "_view_module_version": "1.5.0",
            "description_tooltip": null,
            "_model_module": "@jupyter-widgets/controls",
            "layout": "IPY_MODEL_0c17d925b5c542a68b719e0a50a21ad1"
          }
        },
        "dcda62208e8940e99f39879080166f02": {
          "model_module": "@jupyter-widgets/controls",
          "model_name": "FloatProgressModel",
          "model_module_version": "1.5.0",
          "state": {
            "_view_name": "ProgressView",
            "style": "IPY_MODEL_b54d1524282c4e0ab05877afb4c7e9b0",
            "_dom_classes": [],
            "description": "",
            "_model_name": "FloatProgressModel",
            "bar_style": "info",
            "max": 1,
            "_view_module": "@jupyter-widgets/controls",
            "_model_module_version": "1.5.0",
            "value": 1,
            "_view_count": null,
            "_view_module_version": "1.5.0",
            "orientation": "horizontal",
            "min": 0,
            "description_tooltip": null,
            "_model_module": "@jupyter-widgets/controls",
            "layout": "IPY_MODEL_2eb78d6b26994ce490e986e0ee0081cc"
          }
        },
        "262ec651088c4f4882ed587e4aac2d38": {
          "model_module": "@jupyter-widgets/controls",
          "model_name": "HTMLModel",
          "model_module_version": "1.5.0",
          "state": {
            "_view_name": "HTMLView",
            "style": "IPY_MODEL_77df46706e4c406580cb3143b891597e",
            "_dom_classes": [],
            "description": "",
            "_model_name": "HTMLModel",
            "placeholder": "​",
            "_view_module": "@jupyter-widgets/controls",
            "_model_module_version": "1.5.0",
            "value": " 23078/0 [00:11&lt;00:00, 2047.91 examples/s]",
            "_view_count": null,
            "_view_module_version": "1.5.0",
            "description_tooltip": null,
            "_model_module": "@jupyter-widgets/controls",
            "layout": "IPY_MODEL_fb6dc3df2e124c299aadbd287eb07af7"
          }
        },
        "5aa4774c22044b3daef71a0d72de7d44": {
          "model_module": "@jupyter-widgets/controls",
          "model_name": "DescriptionStyleModel",
          "model_module_version": "1.5.0",
          "state": {
            "_view_name": "StyleView",
            "_model_name": "DescriptionStyleModel",
            "description_width": "",
            "_view_module": "@jupyter-widgets/base",
            "_model_module_version": "1.5.0",
            "_view_count": null,
            "_view_module_version": "1.2.0",
            "_model_module": "@jupyter-widgets/controls"
          }
        },
        "0c17d925b5c542a68b719e0a50a21ad1": {
          "model_module": "@jupyter-widgets/base",
          "model_name": "LayoutModel",
          "model_module_version": "1.2.0",
          "state": {
            "_view_name": "LayoutView",
            "grid_template_rows": null,
            "right": null,
            "justify_content": null,
            "_view_module": "@jupyter-widgets/base",
            "overflow": null,
            "_model_module_version": "1.2.0",
            "_view_count": null,
            "flex_flow": null,
            "width": null,
            "min_width": null,
            "border": null,
            "align_items": null,
            "bottom": null,
            "_model_module": "@jupyter-widgets/base",
            "top": null,
            "grid_column": null,
            "overflow_y": null,
            "overflow_x": null,
            "grid_auto_flow": null,
            "grid_area": null,
            "grid_template_columns": null,
            "flex": null,
            "_model_name": "LayoutModel",
            "justify_items": null,
            "grid_row": null,
            "max_height": null,
            "align_content": null,
            "visibility": null,
            "align_self": null,
            "height": null,
            "min_height": null,
            "padding": null,
            "grid_auto_rows": null,
            "grid_gap": null,
            "max_width": null,
            "order": null,
            "_view_module_version": "1.2.0",
            "grid_template_areas": null,
            "object_position": null,
            "object_fit": null,
            "grid_auto_columns": null,
            "margin": null,
            "display": null,
            "left": null
          }
        },
        "b54d1524282c4e0ab05877afb4c7e9b0": {
          "model_module": "@jupyter-widgets/controls",
          "model_name": "ProgressStyleModel",
          "model_module_version": "1.5.0",
          "state": {
            "_view_name": "StyleView",
            "_model_name": "ProgressStyleModel",
            "description_width": "",
            "_view_module": "@jupyter-widgets/base",
            "_model_module_version": "1.5.0",
            "_view_count": null,
            "_view_module_version": "1.2.0",
            "bar_color": null,
            "_model_module": "@jupyter-widgets/controls"
          }
        },
        "2eb78d6b26994ce490e986e0ee0081cc": {
          "model_module": "@jupyter-widgets/base",
          "model_name": "LayoutModel",
          "model_module_version": "1.2.0",
          "state": {
            "_view_name": "LayoutView",
            "grid_template_rows": null,
            "right": null,
            "justify_content": null,
            "_view_module": "@jupyter-widgets/base",
            "overflow": null,
            "_model_module_version": "1.2.0",
            "_view_count": null,
            "flex_flow": null,
            "width": "20px",
            "min_width": null,
            "border": null,
            "align_items": null,
            "bottom": null,
            "_model_module": "@jupyter-widgets/base",
            "top": null,
            "grid_column": null,
            "overflow_y": null,
            "overflow_x": null,
            "grid_auto_flow": null,
            "grid_area": null,
            "grid_template_columns": null,
            "flex": null,
            "_model_name": "LayoutModel",
            "justify_items": null,
            "grid_row": null,
            "max_height": null,
            "align_content": null,
            "visibility": null,
            "align_self": null,
            "height": null,
            "min_height": null,
            "padding": null,
            "grid_auto_rows": null,
            "grid_gap": null,
            "max_width": null,
            "order": null,
            "_view_module_version": "1.2.0",
            "grid_template_areas": null,
            "object_position": null,
            "object_fit": null,
            "grid_auto_columns": null,
            "margin": null,
            "display": null,
            "left": null
          }
        },
        "77df46706e4c406580cb3143b891597e": {
          "model_module": "@jupyter-widgets/controls",
          "model_name": "DescriptionStyleModel",
          "model_module_version": "1.5.0",
          "state": {
            "_view_name": "StyleView",
            "_model_name": "DescriptionStyleModel",
            "description_width": "",
            "_view_module": "@jupyter-widgets/base",
            "_model_module_version": "1.5.0",
            "_view_count": null,
            "_view_module_version": "1.2.0",
            "_model_module": "@jupyter-widgets/controls"
          }
        },
        "fb6dc3df2e124c299aadbd287eb07af7": {
          "model_module": "@jupyter-widgets/base",
          "model_name": "LayoutModel",
          "model_module_version": "1.2.0",
          "state": {
            "_view_name": "LayoutView",
            "grid_template_rows": null,
            "right": null,
            "justify_content": null,
            "_view_module": "@jupyter-widgets/base",
            "overflow": null,
            "_model_module_version": "1.2.0",
            "_view_count": null,
            "flex_flow": null,
            "width": null,
            "min_width": null,
            "border": null,
            "align_items": null,
            "bottom": null,
            "_model_module": "@jupyter-widgets/base",
            "top": null,
            "grid_column": null,
            "overflow_y": null,
            "overflow_x": null,
            "grid_auto_flow": null,
            "grid_area": null,
            "grid_template_columns": null,
            "flex": null,
            "_model_name": "LayoutModel",
            "justify_items": null,
            "grid_row": null,
            "max_height": null,
            "align_content": null,
            "visibility": null,
            "align_self": null,
            "height": null,
            "min_height": null,
            "padding": null,
            "grid_auto_rows": null,
            "grid_gap": null,
            "max_width": null,
            "order": null,
            "_view_module_version": "1.2.0",
            "grid_template_areas": null,
            "object_position": null,
            "object_fit": null,
            "grid_auto_columns": null,
            "margin": null,
            "display": null,
            "left": null
          }
        },
        "a88e8ac7eb354084b341349e694126c6": {
          "model_module": "@jupyter-widgets/controls",
          "model_name": "HBoxModel",
          "model_module_version": "1.5.0",
          "state": {
            "_view_name": "HBoxView",
            "_dom_classes": [],
            "_model_name": "HBoxModel",
            "_view_module": "@jupyter-widgets/controls",
            "_model_module_version": "1.5.0",
            "_view_count": null,
            "_view_module_version": "1.5.0",
            "box_style": "",
            "layout": "IPY_MODEL_bb03b84461ff4bf79e79872d4aeca96d",
            "_model_module": "@jupyter-widgets/controls",
            "children": [
              "IPY_MODEL_a6b21b7029e443a2a9481141d3f13b3c",
              "IPY_MODEL_0c7db4a5eaf945eaab41dbb900e85cde",
              "IPY_MODEL_f1fb86f9dddc42149a22e5e0e3ed79ea"
            ]
          }
        },
        "bb03b84461ff4bf79e79872d4aeca96d": {
          "model_module": "@jupyter-widgets/base",
          "model_name": "LayoutModel",
          "model_module_version": "1.2.0",
          "state": {
            "_view_name": "LayoutView",
            "grid_template_rows": null,
            "right": null,
            "justify_content": null,
            "_view_module": "@jupyter-widgets/base",
            "overflow": null,
            "_model_module_version": "1.2.0",
            "_view_count": null,
            "flex_flow": null,
            "width": null,
            "min_width": null,
            "border": null,
            "align_items": null,
            "bottom": null,
            "_model_module": "@jupyter-widgets/base",
            "top": null,
            "grid_column": null,
            "overflow_y": null,
            "overflow_x": null,
            "grid_auto_flow": null,
            "grid_area": null,
            "grid_template_columns": null,
            "flex": null,
            "_model_name": "LayoutModel",
            "justify_items": null,
            "grid_row": null,
            "max_height": null,
            "align_content": null,
            "visibility": null,
            "align_self": null,
            "height": null,
            "min_height": null,
            "padding": null,
            "grid_auto_rows": null,
            "grid_gap": null,
            "max_width": null,
            "order": null,
            "_view_module_version": "1.2.0",
            "grid_template_areas": null,
            "object_position": null,
            "object_fit": null,
            "grid_auto_columns": null,
            "margin": null,
            "display": null,
            "left": null
          }
        },
        "a6b21b7029e443a2a9481141d3f13b3c": {
          "model_module": "@jupyter-widgets/controls",
          "model_name": "HTMLModel",
          "model_module_version": "1.5.0",
          "state": {
            "_view_name": "HTMLView",
            "style": "IPY_MODEL_5382cad5da2c4cd29d9e8e0ccf73842d",
            "_dom_classes": [],
            "description": "",
            "_model_name": "HTMLModel",
            "placeholder": "​",
            "_view_module": "@jupyter-widgets/controls",
            "_model_module_version": "1.5.0",
            "value": "100%",
            "_view_count": null,
            "_view_module_version": "1.5.0",
            "description_tooltip": null,
            "_model_module": "@jupyter-widgets/controls",
            "layout": "IPY_MODEL_0cf9cfb72b43430aae66a9074e3a1e07"
          }
        },
        "0c7db4a5eaf945eaab41dbb900e85cde": {
          "model_module": "@jupyter-widgets/controls",
          "model_name": "FloatProgressModel",
          "model_module_version": "1.5.0",
          "state": {
            "_view_name": "ProgressView",
            "style": "IPY_MODEL_2ac41e2fc21c446bb7c58b7d4f0a0338",
            "_dom_classes": [],
            "description": "",
            "_model_name": "FloatProgressModel",
            "bar_style": "danger",
            "max": 23262,
            "_view_module": "@jupyter-widgets/controls",
            "_model_module_version": "1.5.0",
            "value": 23261,
            "_view_count": null,
            "_view_module_version": "1.5.0",
            "orientation": "horizontal",
            "min": 0,
            "description_tooltip": null,
            "_model_module": "@jupyter-widgets/controls",
            "layout": "IPY_MODEL_0c54b37165e5477d816e8a8960394dcd"
          }
        },
        "f1fb86f9dddc42149a22e5e0e3ed79ea": {
          "model_module": "@jupyter-widgets/controls",
          "model_name": "HTMLModel",
          "model_module_version": "1.5.0",
          "state": {
            "_view_name": "HTMLView",
            "style": "IPY_MODEL_a8fac3c025ac472dac7d9dd79a5bd63a",
            "_dom_classes": [],
            "description": "",
            "_model_name": "HTMLModel",
            "placeholder": "​",
            "_view_module": "@jupyter-widgets/controls",
            "_model_module_version": "1.5.0",
            "value": " 23261/23262 [00:01&lt;00:00, 10958.65 examples/s]",
            "_view_count": null,
            "_view_module_version": "1.5.0",
            "description_tooltip": null,
            "_model_module": "@jupyter-widgets/controls",
            "layout": "IPY_MODEL_43f29c435e6c4aeab1190e3cf6979169"
          }
        },
        "5382cad5da2c4cd29d9e8e0ccf73842d": {
          "model_module": "@jupyter-widgets/controls",
          "model_name": "DescriptionStyleModel",
          "model_module_version": "1.5.0",
          "state": {
            "_view_name": "StyleView",
            "_model_name": "DescriptionStyleModel",
            "description_width": "",
            "_view_module": "@jupyter-widgets/base",
            "_model_module_version": "1.5.0",
            "_view_count": null,
            "_view_module_version": "1.2.0",
            "_model_module": "@jupyter-widgets/controls"
          }
        },
        "0cf9cfb72b43430aae66a9074e3a1e07": {
          "model_module": "@jupyter-widgets/base",
          "model_name": "LayoutModel",
          "model_module_version": "1.2.0",
          "state": {
            "_view_name": "LayoutView",
            "grid_template_rows": null,
            "right": null,
            "justify_content": null,
            "_view_module": "@jupyter-widgets/base",
            "overflow": null,
            "_model_module_version": "1.2.0",
            "_view_count": null,
            "flex_flow": null,
            "width": null,
            "min_width": null,
            "border": null,
            "align_items": null,
            "bottom": null,
            "_model_module": "@jupyter-widgets/base",
            "top": null,
            "grid_column": null,
            "overflow_y": null,
            "overflow_x": null,
            "grid_auto_flow": null,
            "grid_area": null,
            "grid_template_columns": null,
            "flex": null,
            "_model_name": "LayoutModel",
            "justify_items": null,
            "grid_row": null,
            "max_height": null,
            "align_content": null,
            "visibility": null,
            "align_self": null,
            "height": null,
            "min_height": null,
            "padding": null,
            "grid_auto_rows": null,
            "grid_gap": null,
            "max_width": null,
            "order": null,
            "_view_module_version": "1.2.0",
            "grid_template_areas": null,
            "object_position": null,
            "object_fit": null,
            "grid_auto_columns": null,
            "margin": null,
            "display": null,
            "left": null
          }
        },
        "2ac41e2fc21c446bb7c58b7d4f0a0338": {
          "model_module": "@jupyter-widgets/controls",
          "model_name": "ProgressStyleModel",
          "model_module_version": "1.5.0",
          "state": {
            "_view_name": "StyleView",
            "_model_name": "ProgressStyleModel",
            "description_width": "",
            "_view_module": "@jupyter-widgets/base",
            "_model_module_version": "1.5.0",
            "_view_count": null,
            "_view_module_version": "1.2.0",
            "bar_color": null,
            "_model_module": "@jupyter-widgets/controls"
          }
        },
        "0c54b37165e5477d816e8a8960394dcd": {
          "model_module": "@jupyter-widgets/base",
          "model_name": "LayoutModel",
          "model_module_version": "1.2.0",
          "state": {
            "_view_name": "LayoutView",
            "grid_template_rows": null,
            "right": null,
            "justify_content": null,
            "_view_module": "@jupyter-widgets/base",
            "overflow": null,
            "_model_module_version": "1.2.0",
            "_view_count": null,
            "flex_flow": null,
            "width": null,
            "min_width": null,
            "border": null,
            "align_items": null,
            "bottom": null,
            "_model_module": "@jupyter-widgets/base",
            "top": null,
            "grid_column": null,
            "overflow_y": null,
            "overflow_x": null,
            "grid_auto_flow": null,
            "grid_area": null,
            "grid_template_columns": null,
            "flex": null,
            "_model_name": "LayoutModel",
            "justify_items": null,
            "grid_row": null,
            "max_height": null,
            "align_content": null,
            "visibility": null,
            "align_self": null,
            "height": null,
            "min_height": null,
            "padding": null,
            "grid_auto_rows": null,
            "grid_gap": null,
            "max_width": null,
            "order": null,
            "_view_module_version": "1.2.0",
            "grid_template_areas": null,
            "object_position": null,
            "object_fit": null,
            "grid_auto_columns": null,
            "margin": null,
            "display": null,
            "left": null
          }
        },
        "a8fac3c025ac472dac7d9dd79a5bd63a": {
          "model_module": "@jupyter-widgets/controls",
          "model_name": "DescriptionStyleModel",
          "model_module_version": "1.5.0",
          "state": {
            "_view_name": "StyleView",
            "_model_name": "DescriptionStyleModel",
            "description_width": "",
            "_view_module": "@jupyter-widgets/base",
            "_model_module_version": "1.5.0",
            "_view_count": null,
            "_view_module_version": "1.2.0",
            "_model_module": "@jupyter-widgets/controls"
          }
        },
        "43f29c435e6c4aeab1190e3cf6979169": {
          "model_module": "@jupyter-widgets/base",
          "model_name": "LayoutModel",
          "model_module_version": "1.2.0",
          "state": {
            "_view_name": "LayoutView",
            "grid_template_rows": null,
            "right": null,
            "justify_content": null,
            "_view_module": "@jupyter-widgets/base",
            "overflow": null,
            "_model_module_version": "1.2.0",
            "_view_count": null,
            "flex_flow": null,
            "width": null,
            "min_width": null,
            "border": null,
            "align_items": null,
            "bottom": null,
            "_model_module": "@jupyter-widgets/base",
            "top": null,
            "grid_column": null,
            "overflow_y": null,
            "overflow_x": null,
            "grid_auto_flow": null,
            "grid_area": null,
            "grid_template_columns": null,
            "flex": null,
            "_model_name": "LayoutModel",
            "justify_items": null,
            "grid_row": null,
            "max_height": null,
            "align_content": null,
            "visibility": null,
            "align_self": null,
            "height": null,
            "min_height": null,
            "padding": null,
            "grid_auto_rows": null,
            "grid_gap": null,
            "max_width": null,
            "order": null,
            "_view_module_version": "1.2.0",
            "grid_template_areas": null,
            "object_position": null,
            "object_fit": null,
            "grid_auto_columns": null,
            "margin": null,
            "display": null,
            "left": null
          }
        }
      }
    }
  },
  "cells": [
    {
      "cell_type": "markdown",
      "metadata": {
        "id": "view-in-github",
        "colab_type": "text"
      },
      "source": [
        "<a href=\"https://colab.research.google.com/github/Jiacheng1216/Tensorflow2.0/blob/master/LAB9.ipynb\" target=\"_parent\"><img src=\"https://colab.research.google.com/assets/colab-badge.svg\" alt=\"Open In Colab\"/></a>"
      ]
    },
    {
      "cell_type": "code",
      "execution_count": null,
      "metadata": {
        "id": "z0gQO6RWjssr"
      },
      "outputs": [],
      "source": [
        "import os\n",
        "import numpy as np\n",
        "import tensorflow as tf\n",
        "import tensorflow_hub as hub\n",
        "import tensorflow_datasets as tfds\n",
        "from tensorflow import keras\n",
        "from tensorflow.keras import layers\n",
        "import matplotlib.pyplot as plt\n",
        "\n",
        "from preprocessing import flip, color, rotate, zoom"
      ]
    },
    {
      "cell_type": "code",
      "source": [
        "train_split, valid_split, test_split = ['train[:80%]', 'train[80%:90%]', 'train[90%:]']\n",
        "train_data, info = tfds.load(\"cats_vs_dogs\", split=train_split, with_info=True)\n",
        "valid_data = tfds.load(\"cats_vs_dogs\", split=valid_split)\n",
        "test_data = tfds.load(\"cats_vs_dogs\", split=test_split)"
      ],
      "metadata": {
        "colab": {
          "base_uri": "https://localhost:8080/",
          "height": 237,
          "referenced_widgets": [
            "2aa6fef125634bdfaf5fc3dfbb82fe75",
            "f00eaf06d46c48ba8abd19dc3e2c2412",
            "0dad4694505b4874915b0aa33c496389",
            "7dd395876c434c9bbd45811d24776c5c",
            "9b44e768f8c845fb9b0c3382ef7ed4eb",
            "4be51b49870b4cf1b03d40e6c018aff7",
            "978a9a96047f49d0a8ecc14beb9921ab",
            "72fbdbdb28ff4431bbb0d0ad7dad2a17",
            "c32c6fd6e6e74b68b34b2498048698b6",
            "0e9cbdd46ace46cbaee9396642615385",
            "6f1bdc32e5154f02b8fff45c588d7aae",
            "549877643ae54ee3bc9e5fcc1650d479",
            "782794b4d3f84ae2b375f23a055e281e",
            "7f520b80322c427baec1b3365d5e5552",
            "ab075eb1c87d4307a2d695187a4f3a26",
            "1a05424beff14b33aec4227023af8b0b",
            "6be6fd14c662428b824b80ca5b938053",
            "816a6f1be1e24a2f9f591978cd3eec2d",
            "8ecdb14f9ed64dd1bddba712296b2209",
            "6a80dea1b3394225a3609161678ffdd5",
            "0e4c7647dddf4ee6a66bad7dff674302",
            "bf19f131a67743afa1e905af83f5225f",
            "1249ccf5c2594b5bb0f90a16184af905",
            "bb7cfbe27777473e83abe61ef5838596",
            "a4033208589342b08c867ceda3e3cf7b",
            "dcda62208e8940e99f39879080166f02",
            "262ec651088c4f4882ed587e4aac2d38",
            "5aa4774c22044b3daef71a0d72de7d44",
            "0c17d925b5c542a68b719e0a50a21ad1",
            "b54d1524282c4e0ab05877afb4c7e9b0",
            "2eb78d6b26994ce490e986e0ee0081cc",
            "77df46706e4c406580cb3143b891597e",
            "fb6dc3df2e124c299aadbd287eb07af7",
            "a88e8ac7eb354084b341349e694126c6",
            "bb03b84461ff4bf79e79872d4aeca96d",
            "a6b21b7029e443a2a9481141d3f13b3c",
            "0c7db4a5eaf945eaab41dbb900e85cde",
            "f1fb86f9dddc42149a22e5e0e3ed79ea",
            "5382cad5da2c4cd29d9e8e0ccf73842d",
            "0cf9cfb72b43430aae66a9074e3a1e07",
            "2ac41e2fc21c446bb7c58b7d4f0a0338",
            "0c54b37165e5477d816e8a8960394dcd",
            "a8fac3c025ac472dac7d9dd79a5bd63a",
            "43f29c435e6c4aeab1190e3cf6979169"
          ]
        },
        "id": "1Vd2cSGTkCJf",
        "outputId": "e95aa94b-2b14-45d4-c7ca-bbce91f2490a"
      },
      "execution_count": null,
      "outputs": [
        {
          "output_type": "stream",
          "name": "stdout",
          "text": [
            "\u001b[1mDownloading and preparing dataset cats_vs_dogs/4.0.0 (download: 786.68 MiB, generated: Unknown size, total: 786.68 MiB) to /root/tensorflow_datasets/cats_vs_dogs/4.0.0...\u001b[0m\n"
          ]
        },
        {
          "output_type": "display_data",
          "data": {
            "application/vnd.jupyter.widget-view+json": {
              "model_id": "2aa6fef125634bdfaf5fc3dfbb82fe75",
              "version_minor": 0,
              "version_major": 2
            },
            "text/plain": [
              "Dl Completed...: 0 url [00:00, ? url/s]"
            ]
          },
          "metadata": {}
        },
        {
          "output_type": "display_data",
          "data": {
            "application/vnd.jupyter.widget-view+json": {
              "model_id": "549877643ae54ee3bc9e5fcc1650d479",
              "version_minor": 0,
              "version_major": 2
            },
            "text/plain": [
              "Dl Size...: 0 MiB [00:00, ? MiB/s]"
            ]
          },
          "metadata": {}
        },
        {
          "output_type": "stream",
          "name": "stdout",
          "text": [
            "\n",
            "\n"
          ]
        },
        {
          "output_type": "display_data",
          "data": {
            "application/vnd.jupyter.widget-view+json": {
              "model_id": "1249ccf5c2594b5bb0f90a16184af905",
              "version_minor": 0,
              "version_major": 2
            },
            "text/plain": [
              "0 examples [00:00, ? examples/s]"
            ]
          },
          "metadata": {}
        },
        {
          "output_type": "stream",
          "name": "stderr",
          "text": [
            "WARNING:absl:1738 images were corrupted and were skipped\n"
          ]
        },
        {
          "output_type": "stream",
          "name": "stdout",
          "text": [
            "Shuffling and writing examples to /root/tensorflow_datasets/cats_vs_dogs/4.0.0.incompleteDLWVKJ/cats_vs_dogs-train.tfrecord\n"
          ]
        },
        {
          "output_type": "display_data",
          "data": {
            "application/vnd.jupyter.widget-view+json": {
              "model_id": "a88e8ac7eb354084b341349e694126c6",
              "version_minor": 0,
              "version_major": 2
            },
            "text/plain": [
              "  0%|          | 0/23262 [00:00<?, ? examples/s]"
            ]
          },
          "metadata": {}
        },
        {
          "output_type": "stream",
          "name": "stdout",
          "text": [
            "\u001b[1mDataset cats_vs_dogs downloaded and prepared to /root/tensorflow_datasets/cats_vs_dogs/4.0.0. Subsequent calls will reuse this data.\u001b[0m\n"
          ]
        }
      ]
    },
    {
      "cell_type": "code",
      "source": [
        "print(info.features['label'].names)\n",
        "decoder = info.features['label'].names"
      ],
      "metadata": {
        "colab": {
          "base_uri": "https://localhost:8080/"
        },
        "id": "pX818qeukOJO",
        "outputId": "88bdfbdc-8ebe-48af-cef6-4048a4bbd350"
      },
      "execution_count": null,
      "outputs": [
        {
          "output_type": "stream",
          "name": "stdout",
          "text": [
            "['cat', 'dog']\n"
          ]
        }
      ]
    },
    {
      "cell_type": "code",
      "source": [
        "for data in train_data.take(1):\n",
        "    img = data['image']\n",
        "    label = data['label']\n",
        "plt.title(decoder[label])\n",
        "plt.imshow(img)"
      ],
      "metadata": {
        "colab": {
          "base_uri": "https://localhost:8080/",
          "height": 299
        },
        "id": "7uwUTFwGkVPa",
        "outputId": "ae6ec80b-cc86-4510-cc8d-2acc789679b1"
      },
      "execution_count": null,
      "outputs": [
        {
          "output_type": "execute_result",
          "data": {
            "text/plain": [
              "<matplotlib.image.AxesImage at 0x7f6682270290>"
            ]
          },
          "metadata": {},
          "execution_count": 4
        },
        {
          "output_type": "display_data",
          "data": {
            "image/png": "[encoded data removed]",
            "text/plain": [
              "<Figure size 432x288 with 1 Axes>"
            ]
          },
          "metadata": {
            "needs_background": "light"
          }
        }
      ]
    },
    {
      "cell_type": "code",
      "source": [
        "input_shape = (299, 299)"
      ],
      "metadata": {
        "id": "t5ElSE4IkXa1"
      },
      "execution_count": null,
      "outputs": []
    },
    {
      "cell_type": "code",
      "source": [
        "def parse_aug_fn(dataset):\n",
        "    x = tf.cast(dataset['image'], tf.float32) / 255.  \n",
        "    x = tf.image.resize(x, input_shape)\n",
        "    x = flip(x)  \n",
        "    x = tf.cond(tf.random.uniform([], 0, 1) > 0.5, lambda: color(x), lambda: x)\n",
        "    x = tf.cond(tf.random.uniform([], 0, 1) > 0.75, lambda: rotate(x), lambda: x)\n",
        "    x = tf.cond(tf.random.uniform([], 0, 1) > 0.5, lambda: zoom(x), lambda: x)\n",
        "    return x, dataset['label']\n",
        "\n",
        "def parse_fn(dataset):\n",
        "    x = tf.cast(dataset['image'], tf.float32) \n",
        "    x = tf.image.resize(x, input_shape)\n",
        "    return x, dataset['label']"
      ],
      "metadata": {
        "id": "zg-5-e2vke0G"
      },
      "execution_count": null,
      "outputs": []
    },
    {
      "cell_type": "code",
      "source": [
        "AUTOTUNE = tf.data.experimental.AUTOTUNE  \n",
        "buffer_size = 1000  \n",
        "bacth_size = 32  \n",
        "\n",
        "train_data = train_data.map(map_func=parse_aug_fn, num_parallel_calls=AUTOTUNE)\n",
        "train_data = train_data.shuffle(buffer_size) \n",
        "train_data = train_data.batch(bacth_size).prefetch(buffer_size=AUTOTUNE)\n",
        "\n",
        "valid_data = valid_data.map(map_func=parse_fn, num_parallel_calls=AUTOTUNE)\n",
        "valid_data = valid_data.batch(bacth_size).prefetch(buffer_size=AUTOTUNE)\n",
        "\n",
        "test_data = test_data.map(map_func=parse_fn, num_parallel_calls=AUTOTUNE)\n",
        "test_data = test_data.batch(bacth_size).prefetch(buffer_size=AUTOTUNE)"
      ],
      "metadata": {
        "id": "vtDl-itBki2B"
      },
      "execution_count": null,
      "outputs": []
    },
    {
      "cell_type": "code",
      "source": [
        "model_dir = 'lab9-logs/models' \n",
        "os.makedirs(model_dir) "
      ],
      "metadata": {
        "id": "m0olwuIpknyP"
      },
      "execution_count": null,
      "outputs": []
    },
    {
      "cell_type": "code",
      "source": [
        "log_dir = os.path.join('lab9-logs', 'model-1')\n",
        "model_cbk = keras.callbacks.TensorBoard(log_dir=log_dir)\n",
        "model_mckp = keras.callbacks.ModelCheckpoint(model_dir + '/Best-model-1.h5', \n",
        "                                             monitor='val_binary_accuracy', \n",
        "                                             save_best_only=True, \n",
        "                                             mode='max')\n",
        "model_esp = keras.callbacks.EarlyStopping(monitor='val_binary_accuracy', patience=20)"
      ],
      "metadata": {
        "id": "DGRMQRyGkpbj"
      },
      "execution_count": null,
      "outputs": []
    },
    {
      "cell_type": "code",
      "source": [
        "base_model = tf.keras.applications.InceptionV3(include_top=False, \n",
        "                                               weights=None, \n",
        "                                               pooling='avg', \n",
        "                                               input_shape=input_shape+(3,))\n",
        "\n",
        "model_1 = tf.keras.Sequential([\n",
        "    base_model,\n",
        "    layers.Dense(128, activation='relu'), \n",
        "    layers.Dense(1, activation='sigmoid')\n",
        "])"
      ],
      "metadata": {
        "id": "odkSNEK3ksKI"
      },
      "execution_count": null,
      "outputs": []
    },
    {
      "cell_type": "code",
      "source": [
        "model_1.summary()"
      ],
      "metadata": {
        "colab": {
          "base_uri": "https://localhost:8080/"
        },
        "id": "m90KW26nkuHD",
        "outputId": "f4ec515f-ff31-4b43-e711-2f8efb25400f"
      },
      "execution_count": null,
      "outputs": [
        {
          "output_type": "stream",
          "name": "stdout",
          "text": [
            "Model: \"sequential\"\n",
            "_________________________________________________________________\n",
            " Layer (type)                Output Shape              Param #   \n",
            "=================================================================\n",
            " inception_v3 (Functional)   (None, 2048)              21802784  \n",
            "                                                                 \n",
            " dense (Dense)               (None, 128)               262272    \n",
            "                                                                 \n",
            " dense_1 (Dense)             (None, 1)                 129       \n",
            "                                                                 \n",
            "=================================================================\n",
            "Total params: 22,065,185\n",
            "Trainable params: 22,030,753\n",
            "Non-trainable params: 34,432\n",
            "_________________________________________________________________\n"
          ]
        }
      ]
    },
    {
      "cell_type": "code",
      "source": [
        "model_1.compile(keras.optimizers.Adam(), \n",
        "                loss=keras.losses.BinaryCrossentropy(), \n",
        "                metrics=[keras.metrics.BinaryAccuracy()])"
      ],
      "metadata": {
        "id": "UGMRXaTFkvuq"
      },
      "execution_count": null,
      "outputs": []
    },
    {
      "cell_type": "code",
      "source": [
        "history = model_1.fit(train_data,\n",
        "                      epochs=200, \n",
        "                      validation_data=valid_data,\n",
        "                      callbacks=[model_cbk, model_mckp, model_esp])"
      ],
      "metadata": {
        "colab": {
          "base_uri": "https://localhost:8080/"
        },
        "id": "ygPpS5EKkw52",
        "outputId": "be0fddce-9102-4138-b4af-f3992cdd3dc0"
      },
      "execution_count": null,
      "outputs": [
        {
          "output_type": "stream",
          "name": "stdout",
          "text": [
            "Epoch 1/200\n",
            "582/582 [==============================] - 165s 254ms/step - loss: 0.6800 - binary_accuracy: 0.5890 - val_loss: 7.2147 - val_binary_accuracy: 0.4815\n",
            "Epoch 2/200\n",
            "582/582 [==============================] - 148s 250ms/step - loss: 0.6204 - binary_accuracy: 0.6490 - val_loss: 144.1193 - val_binary_accuracy: 0.4837\n",
            "Epoch 3/200\n",
            "582/582 [==============================] - 147s 248ms/step - loss: 0.5543 - binary_accuracy: 0.7120 - val_loss: 78.3775 - val_binary_accuracy: 0.4815\n",
            "Epoch 4/200\n",
            "582/582 [==============================] - 147s 248ms/step - loss: 0.4784 - binary_accuracy: 0.7679 - val_loss: 107.7044 - val_binary_accuracy: 0.4815\n",
            "Epoch 5/200\n",
            "582/582 [==============================] - 147s 248ms/step - loss: 0.4089 - binary_accuracy: 0.8120 - val_loss: 57.7292 - val_binary_accuracy: 0.4815\n",
            "Epoch 6/200\n",
            "582/582 [==============================] - 146s 248ms/step - loss: 0.3440 - binary_accuracy: 0.8477 - val_loss: 97.2749 - val_binary_accuracy: 0.4815\n",
            "Epoch 7/200\n",
            "582/582 [==============================] - 146s 248ms/step - loss: 0.2881 - binary_accuracy: 0.8772 - val_loss: 321.9410 - val_binary_accuracy: 0.4815\n",
            "Epoch 8/200\n",
            "582/582 [==============================] - 147s 248ms/step - loss: 0.2618 - binary_accuracy: 0.8872 - val_loss: 296.2343 - val_binary_accuracy: 0.4815\n",
            "Epoch 9/200\n",
            "582/582 [==============================] - 146s 248ms/step - loss: 0.2434 - binary_accuracy: 0.8979 - val_loss: 149.6436 - val_binary_accuracy: 0.4815\n",
            "Epoch 10/200\n",
            "582/582 [==============================] - 147s 249ms/step - loss: 0.2164 - binary_accuracy: 0.9077 - val_loss: 120.8232 - val_binary_accuracy: 0.4815\n",
            "Epoch 11/200\n",
            "582/582 [==============================] - 148s 250ms/step - loss: 0.2044 - binary_accuracy: 0.9127 - val_loss: 86.5300 - val_binary_accuracy: 0.5413\n",
            "Epoch 12/200\n",
            "582/582 [==============================] - 147s 249ms/step - loss: 0.1882 - binary_accuracy: 0.9208 - val_loss: 61.5200 - val_binary_accuracy: 0.5030\n",
            "Epoch 13/200\n",
            "582/582 [==============================] - 147s 249ms/step - loss: 0.1781 - binary_accuracy: 0.9250 - val_loss: 21.6034 - val_binary_accuracy: 0.4815\n",
            "Epoch 14/200\n",
            "582/582 [==============================] - 147s 248ms/step - loss: 0.1717 - binary_accuracy: 0.9297 - val_loss: 52.0774 - val_binary_accuracy: 0.4815\n",
            "Epoch 15/200\n",
            "582/582 [==============================] - 147s 249ms/step - loss: 0.1621 - binary_accuracy: 0.9333 - val_loss: 56.1959 - val_binary_accuracy: 0.4845\n",
            "Epoch 16/200\n",
            "582/582 [==============================] - 147s 249ms/step - loss: 0.1581 - binary_accuracy: 0.9340 - val_loss: 20.7021 - val_binary_accuracy: 0.4850\n",
            "Epoch 17/200\n",
            "582/582 [==============================] - 148s 251ms/step - loss: 0.1465 - binary_accuracy: 0.9402 - val_loss: 9.3932 - val_binary_accuracy: 0.6079\n",
            "Epoch 18/200\n",
            "582/582 [==============================] - 147s 249ms/step - loss: 0.1430 - binary_accuracy: 0.9421 - val_loss: 57.7892 - val_binary_accuracy: 0.4815\n",
            "Epoch 19/200\n",
            "582/582 [==============================] - 147s 249ms/step - loss: 0.1406 - binary_accuracy: 0.9424 - val_loss: 35.9853 - val_binary_accuracy: 0.4875\n",
            "Epoch 20/200\n",
            "582/582 [==============================] - 147s 249ms/step - loss: 0.1320 - binary_accuracy: 0.9456 - val_loss: 23.4663 - val_binary_accuracy: 0.4858\n",
            "Epoch 21/200\n",
            "582/582 [==============================] - 147s 248ms/step - loss: 0.1274 - binary_accuracy: 0.9471 - val_loss: 20.5831 - val_binary_accuracy: 0.5391\n",
            "Epoch 22/200\n",
            "582/582 [==============================] - 148s 251ms/step - loss: 0.1186 - binary_accuracy: 0.9537 - val_loss: 5.1204 - val_binary_accuracy: 0.6320\n",
            "Epoch 23/200\n",
            "582/582 [==============================] - 147s 248ms/step - loss: 0.1161 - binary_accuracy: 0.9526 - val_loss: 6.8294 - val_binary_accuracy: 0.5628\n",
            "Epoch 24/200\n",
            "582/582 [==============================] - 147s 249ms/step - loss: 0.1135 - binary_accuracy: 0.9545 - val_loss: 33.8517 - val_binary_accuracy: 0.4815\n",
            "Epoch 25/200\n",
            "582/582 [==============================] - 147s 249ms/step - loss: 0.1107 - binary_accuracy: 0.9556 - val_loss: 8.8469 - val_binary_accuracy: 0.4811\n",
            "Epoch 26/200\n",
            "582/582 [==============================] - 147s 249ms/step - loss: 0.1093 - binary_accuracy: 0.9550 - val_loss: 4.9920 - val_binary_accuracy: 0.4996\n",
            "Epoch 27/200\n",
            "582/582 [==============================] - 147s 249ms/step - loss: 0.1022 - binary_accuracy: 0.9588 - val_loss: 2.9196 - val_binary_accuracy: 0.6208\n",
            "Epoch 28/200\n",
            "582/582 [==============================] - 147s 249ms/step - loss: 0.1020 - binary_accuracy: 0.9595 - val_loss: 2.0442 - val_binary_accuracy: 0.5645\n",
            "Epoch 29/200\n",
            "582/582 [==============================] - 147s 249ms/step - loss: 0.0973 - binary_accuracy: 0.9622 - val_loss: 3.1064 - val_binary_accuracy: 0.5636\n",
            "Epoch 30/200\n",
            "582/582 [==============================] - 147s 249ms/step - loss: 0.0997 - binary_accuracy: 0.9592 - val_loss: 1.7200 - val_binary_accuracy: 0.5993\n",
            "Epoch 31/200\n",
            "582/582 [==============================] - 147s 249ms/step - loss: 0.0931 - binary_accuracy: 0.9632 - val_loss: 14.0433 - val_binary_accuracy: 0.5262\n",
            "Epoch 32/200\n",
            "582/582 [==============================] - 147s 249ms/step - loss: 0.0926 - binary_accuracy: 0.9616 - val_loss: 10.4762 - val_binary_accuracy: 0.5825\n",
            "Epoch 33/200\n",
            "582/582 [==============================] - 147s 249ms/step - loss: 0.0875 - binary_accuracy: 0.9656 - val_loss: 5.3747 - val_binary_accuracy: 0.5456\n",
            "Epoch 34/200\n",
            "582/582 [==============================] - 147s 249ms/step - loss: 0.0891 - binary_accuracy: 0.9642 - val_loss: 0.8645 - val_binary_accuracy: 0.6307\n",
            "Epoch 35/200\n",
            "582/582 [==============================] - 147s 249ms/step - loss: 0.0865 - binary_accuracy: 0.9650 - val_loss: 17.5375 - val_binary_accuracy: 0.4815\n",
            "Epoch 36/200\n",
            "582/582 [==============================] - 147s 249ms/step - loss: 0.0830 - binary_accuracy: 0.9663 - val_loss: 2.1357 - val_binary_accuracy: 0.5825\n",
            "Epoch 37/200\n",
            "582/582 [==============================] - 147s 249ms/step - loss: 0.0830 - binary_accuracy: 0.9675 - val_loss: 24.8295 - val_binary_accuracy: 0.5456\n",
            "Epoch 38/200\n",
            "582/582 [==============================] - 147s 249ms/step - loss: 0.0788 - binary_accuracy: 0.9693 - val_loss: 11.0566 - val_binary_accuracy: 0.5903\n",
            "Epoch 39/200\n",
            "582/582 [==============================] - 147s 249ms/step - loss: 0.0787 - binary_accuracy: 0.9679 - val_loss: 3.4660 - val_binary_accuracy: 0.5232\n",
            "Epoch 40/200\n",
            "582/582 [==============================] - 147s 249ms/step - loss: 0.0777 - binary_accuracy: 0.9695 - val_loss: 8.4431 - val_binary_accuracy: 0.4867\n",
            "Epoch 41/200\n",
            "582/582 [==============================] - 147s 249ms/step - loss: 0.0801 - binary_accuracy: 0.9682 - val_loss: 1.2165 - val_binary_accuracy: 0.5675\n",
            "Epoch 42/200\n",
            "582/582 [==============================] - 147s 249ms/step - loss: 0.0751 - binary_accuracy: 0.9711 - val_loss: 3.9696 - val_binary_accuracy: 0.5396\n"
          ]
        }
      ]
    },
    {
      "cell_type": "code",
      "source": [
        "log_dir = os.path.join('lab9-logs', 'model-2')\n",
        "model_cbk = keras.callbacks.TensorBoard(log_dir=log_dir)\n",
        "model_mckp = keras.callbacks.ModelCheckpoint(model_dir + '/Best-model-2.h5', \n",
        "                                             monitor='val_binary_accuracy', \n",
        "                                             save_best_only=True, \n",
        "                                             mode='max')\n",
        "model_esp = keras.callbacks.EarlyStopping(monitor='val_binary_accuracy', patience=20, mode='max')"
      ],
      "metadata": {
        "id": "p8cTKTmikyHe"
      },
      "execution_count": null,
      "outputs": []
    },
    {
      "cell_type": "code",
      "source": [
        "module_url = \"https://tfhub.dev/google/tf2-preview/inception_v3/feature_vector/4\"\n",
        "\n",
        "model_2 = tf.keras.Sequential([\n",
        "    hub.KerasLayer(module_url,\n",
        "                   input_shape=(299, 299, 3),  \n",
        "                   output_shape=(2048,),  \n",
        "                   trainable=False), \n",
        "    layers.Dense(128, activation='relu'), \n",
        "    layers.Dense(1, activation='sigmoid')\n",
        "])"
      ],
      "metadata": {
        "id": "QT6IanuqlXDr"
      },
      "execution_count": null,
      "outputs": []
    },
    {
      "cell_type": "code",
      "source": [
        "model_2.summary()"
      ],
      "metadata": {
        "colab": {
          "base_uri": "https://localhost:8080/"
        },
        "id": "s33UyXxylgZP",
        "outputId": "790746f4-9ed5-451f-b65f-c12f469d8633"
      },
      "execution_count": null,
      "outputs": [
        {
          "output_type": "stream",
          "name": "stdout",
          "text": [
            "Model: \"sequential_1\"\n",
            "_________________________________________________________________\n",
            " Layer (type)                Output Shape              Param #   \n",
            "=================================================================\n",
            " keras_layer (KerasLayer)    (None, 2048)              21802784  \n",
            "                                                                 \n",
            " dense_2 (Dense)             (None, 128)               262272    \n",
            "                                                                 \n",
            " dense_3 (Dense)             (None, 1)                 129       \n",
            "                                                                 \n",
            "=================================================================\n",
            "Total params: 22,065,185\n",
            "Trainable params: 262,401\n",
            "Non-trainable params: 21,802,784\n",
            "_________________________________________________________________\n"
          ]
        }
      ]
    },
    {
      "cell_type": "code",
      "source": [
        "model_2.compile(keras.optimizers.Adam(), \n",
        "               loss=keras.losses.BinaryCrossentropy(), \n",
        "               metrics=[keras.metrics.BinaryAccuracy()])"
      ],
      "metadata": {
        "id": "kJy7q4pPlnyw"
      },
      "execution_count": null,
      "outputs": []
    },
    {
      "cell_type": "code",
      "source": [
        "history = model_2.fit(train_data,\n",
        "                      epochs=200, \n",
        "                      validation_data=valid_data,\n",
        "                      callbacks=[model_cbk, model_esp, model_mckp])"
      ],
      "metadata": {
        "colab": {
          "base_uri": "https://localhost:8080/"
        },
        "id": "a0jrdBx-lqBf",
        "outputId": "287c9a98-37d5-46ea-905e-32806dee7899"
      },
      "execution_count": 18,
      "outputs": [
        {
          "output_type": "stream",
          "name": "stdout",
          "text": [
            "Epoch 1/200\n",
            "582/582 [==============================] - 58s 88ms/step - loss: 0.0793 - binary_accuracy: 0.9717 - val_loss: 51.9290 - val_binary_accuracy: 0.5077\n",
            "Epoch 2/200\n",
            "582/582 [==============================] - 52s 86ms/step - loss: 0.0574 - binary_accuracy: 0.9804 - val_loss: 105.1887 - val_binary_accuracy: 0.4858\n",
            "Epoch 3/200\n",
            "582/582 [==============================] - 53s 87ms/step - loss: 0.0499 - binary_accuracy: 0.9819 - val_loss: 83.6196 - val_binary_accuracy: 0.4837\n",
            "Epoch 4/200\n",
            "582/582 [==============================] - 53s 87ms/step - loss: 0.0489 - binary_accuracy: 0.9813 - val_loss: 77.5170 - val_binary_accuracy: 0.4893\n",
            "Epoch 5/200\n",
            "582/582 [==============================] - 53s 87ms/step - loss: 0.0507 - binary_accuracy: 0.9808 - val_loss: 105.8303 - val_binary_accuracy: 0.4862\n",
            "Epoch 6/200\n",
            "582/582 [==============================] - 53s 87ms/step - loss: 0.0503 - binary_accuracy: 0.9819 - val_loss: 66.4068 - val_binary_accuracy: 0.5052\n",
            "Epoch 7/200\n",
            "582/582 [==============================] - 52s 86ms/step - loss: 0.0424 - binary_accuracy: 0.9843 - val_loss: 134.5098 - val_binary_accuracy: 0.4850\n",
            "Epoch 8/200\n",
            "582/582 [==============================] - 52s 86ms/step - loss: 0.0450 - binary_accuracy: 0.9833 - val_loss: 67.2070 - val_binary_accuracy: 0.5056\n",
            "Epoch 9/200\n",
            "582/582 [==============================] - 52s 86ms/step - loss: 0.0418 - binary_accuracy: 0.9841 - val_loss: 87.9466 - val_binary_accuracy: 0.5004\n",
            "Epoch 10/200\n",
            "582/582 [==============================] - 52s 86ms/step - loss: 0.0411 - binary_accuracy: 0.9848 - val_loss: 103.7534 - val_binary_accuracy: 0.5034\n",
            "Epoch 11/200\n",
            "582/582 [==============================] - 52s 86ms/step - loss: 0.0404 - binary_accuracy: 0.9851 - val_loss: 157.7261 - val_binary_accuracy: 0.4875\n",
            "Epoch 12/200\n",
            "582/582 [==============================] - 53s 87ms/step - loss: 0.0384 - binary_accuracy: 0.9854 - val_loss: 88.6094 - val_binary_accuracy: 0.5090\n",
            "Epoch 13/200\n",
            "582/582 [==============================] - 52s 87ms/step - loss: 0.0403 - binary_accuracy: 0.9847 - val_loss: 99.6829 - val_binary_accuracy: 0.5176\n",
            "Epoch 14/200\n",
            "582/582 [==============================] - 52s 86ms/step - loss: 0.0396 - binary_accuracy: 0.9854 - val_loss: 140.9608 - val_binary_accuracy: 0.5026\n",
            "Epoch 15/200\n",
            "582/582 [==============================] - 53s 87ms/step - loss: 0.0392 - binary_accuracy: 0.9854 - val_loss: 106.6581 - val_binary_accuracy: 0.5129\n",
            "Epoch 16/200\n",
            "582/582 [==============================] - 52s 86ms/step - loss: 0.0317 - binary_accuracy: 0.9866 - val_loss: 185.6444 - val_binary_accuracy: 0.4966\n",
            "Epoch 17/200\n",
            "582/582 [==============================] - 52s 86ms/step - loss: 0.0342 - binary_accuracy: 0.9867 - val_loss: 149.2326 - val_binary_accuracy: 0.5039\n",
            "Epoch 18/200\n",
            "582/582 [==============================] - 52s 86ms/step - loss: 0.0354 - binary_accuracy: 0.9863 - val_loss: 188.1117 - val_binary_accuracy: 0.4927\n",
            "Epoch 19/200\n",
            "582/582 [==============================] - 52s 86ms/step - loss: 0.0342 - binary_accuracy: 0.9874 - val_loss: 160.7323 - val_binary_accuracy: 0.5026\n",
            "Epoch 20/200\n",
            "582/582 [==============================] - 52s 86ms/step - loss: 0.0340 - binary_accuracy: 0.9874 - val_loss: 234.4445 - val_binary_accuracy: 0.4867\n",
            "Epoch 21/200\n",
            "582/582 [==============================] - 52s 86ms/step - loss: 0.0327 - binary_accuracy: 0.9876 - val_loss: 193.6082 - val_binary_accuracy: 0.4987\n",
            "Epoch 22/200\n",
            "582/582 [==============================] - 53s 86ms/step - loss: 0.0341 - binary_accuracy: 0.9867 - val_loss: 295.3785 - val_binary_accuracy: 0.4862\n",
            "Epoch 23/200\n",
            "582/582 [==============================] - 52s 86ms/step - loss: 0.0329 - binary_accuracy: 0.9875 - val_loss: 278.1603 - val_binary_accuracy: 0.4862\n",
            "Epoch 24/200\n",
            "582/582 [==============================] - 53s 87ms/step - loss: 0.0317 - binary_accuracy: 0.9878 - val_loss: 312.3027 - val_binary_accuracy: 0.4854\n",
            "Epoch 25/200\n",
            "582/582 [==============================] - 52s 86ms/step - loss: 0.0316 - binary_accuracy: 0.9885 - val_loss: 269.0974 - val_binary_accuracy: 0.4871\n",
            "Epoch 26/200\n",
            "582/582 [==============================] - 52s 86ms/step - loss: 0.0316 - binary_accuracy: 0.9876 - val_loss: 221.1543 - val_binary_accuracy: 0.4923\n",
            "Epoch 27/200\n",
            "582/582 [==============================] - 53s 87ms/step - loss: 0.0316 - binary_accuracy: 0.9889 - val_loss: 318.7475 - val_binary_accuracy: 0.4858\n",
            "Epoch 28/200\n",
            "582/582 [==============================] - 52s 86ms/step - loss: 0.0312 - binary_accuracy: 0.9879 - val_loss: 331.6716 - val_binary_accuracy: 0.4854\n",
            "Epoch 29/200\n",
            "582/582 [==============================] - 53s 87ms/step - loss: 0.0310 - binary_accuracy: 0.9888 - val_loss: 317.1106 - val_binary_accuracy: 0.4867\n",
            "Epoch 30/200\n",
            "582/582 [==============================] - 52s 86ms/step - loss: 0.0296 - binary_accuracy: 0.9882 - val_loss: 219.6177 - val_binary_accuracy: 0.4979\n",
            "Epoch 31/200\n",
            "582/582 [==============================] - 52s 86ms/step - loss: 0.0295 - binary_accuracy: 0.9887 - val_loss: 298.8753 - val_binary_accuracy: 0.4867\n",
            "Epoch 32/200\n",
            "582/582 [==============================] - 52s 86ms/step - loss: 0.0316 - binary_accuracy: 0.9884 - val_loss: 377.7325 - val_binary_accuracy: 0.4858\n",
            "Epoch 33/200\n",
            "582/582 [==============================] - 53s 87ms/step - loss: 0.0297 - binary_accuracy: 0.9887 - val_loss: 388.2245 - val_binary_accuracy: 0.4854\n"
          ]
        }
      ]
    },
    {
      "cell_type": "code",
      "source": [
        "model_1.load_weights(model_dir + '/Best-model-1.h5')\n",
        "model_2.load_weights(model_dir + '/Best-model-2.h5')"
      ],
      "metadata": {
        "id": "zuZW2qSPlr-5"
      },
      "execution_count": 19,
      "outputs": []
    },
    {
      "cell_type": "code",
      "source": [
        "loss_1, acc_1 = model_1.evaluate(test_data)\n",
        "loss_2, acc_2 = model_2.evaluate(test_data)"
      ],
      "metadata": {
        "colab": {
          "base_uri": "https://localhost:8080/"
        },
        "id": "jHRIEqWwtZhN",
        "outputId": "ae527e02-927b-4088-acdc-9e15fb940849"
      },
      "execution_count": 20,
      "outputs": [
        {
          "output_type": "stream",
          "name": "stdout",
          "text": [
            "73/73 [==============================] - 5s 70ms/step - loss: 4.9988 - binary_accuracy: 0.6419\n",
            "73/73 [==============================] - 5s 69ms/step - loss: 95.4155 - binary_accuracy: 0.5348\n"
          ]
        }
      ]
    },
    {
      "cell_type": "code",
      "source": [
        "print(\"Model_1 Prediction: {}%\".format(acc_1 * 100))\n",
        "print(\"Model_2 Prediction: {}%\".format(acc_2 * 100))"
      ],
      "metadata": {
        "colab": {
          "base_uri": "https://localhost:8080/"
        },
        "id": "CA-v7N86ta_u",
        "outputId": "bbf068a1-8c4b-411d-e602-d62c57934435"
      },
      "execution_count": 21,
      "outputs": [
        {
          "output_type": "stream",
          "name": "stdout",
          "text": [
            "Model_1 Prediction: 64.18744921684265%\n",
            "Model_2 Prediction: 53.48237156867981%\n"
          ]
        }
      ]
    },
    {
      "cell_type": "code",
      "source": [
        "acc_2 - acc_1"
      ],
      "metadata": {
        "colab": {
          "base_uri": "https://localhost:8080/"
        },
        "id": "if2WsVgptd5y",
        "outputId": "e8f7ab4b-ece3-4eee-acf8-501454dcf908"
      },
      "execution_count": 22,
      "outputs": [
        {
          "output_type": "execute_result",
          "data": {
            "text/plain": [
              "-0.10705077648162842"
            ]
          },
          "metadata": {},
          "execution_count": 22
        }
      ]
    },
    {
      "cell_type": "code",
      "source": [
        ""
      ],
      "metadata": {
        "id": "Sj5F3YfLtfQE"
      },
      "execution_count": null,
      "outputs": []
    }
  ]
}