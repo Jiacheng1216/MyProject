{
  "nbformat": 4,
  "nbformat_minor": 0,
  "metadata": {
    "colab": {
      "name": "LAB1.ipynb",
      "provenance": [],
      "collapsed_sections": [],
      "mount_file_id": "1fOpnS_BuTt4kxy9Qhu4jua5HTDADwcJA",
      "authorship_tag": "ABX9TyMmr29N4V3Kbo0WF9bKulQd",
      "include_colab_link": true
    },
    "kernelspec": {
      "name": "python3",
      "display_name": "Python 3"
    },
    "language_info": {
      "name": "python"
    }
  },
  "cells": [
    {
      "cell_type": "markdown",
      "metadata": {
        "id": "view-in-github",
        "colab_type": "text"
      },
      "source": [
        "<a href=\"https://colab.research.google.com/github/Jiacheng1216/Tensorflow2.0/blob/master/LAB1.ipynb\" target=\"_parent\"><img src=\"https://colab.research.google.com/assets/colab-badge.svg\" alt=\"Open In Colab\"/></a>"
      ]
    },
    {
      "cell_type": "code",
      "execution_count": null,
      "metadata": {
        "id": "m6_kmWdERES3"
      },
      "outputs": [],
      "source": [
        "import tensorflow as tf"
      ]
    },
    {
      "cell_type": "code",
      "source": [
        "c = tf.constant(1)\n",
        "v = tf.Variable(1)\n",
        "print(c)\n",
        "print(v)"
      ],
      "metadata": {
        "colab": {
          "base_uri": "https://localhost:8080/"
        },
        "id": "W-6Mn5s9RN4D",
        "outputId": "7ee67263-ba4c-4953-d836-c79fc3442976"
      },
      "execution_count": null,
      "outputs": [
        {
          "output_type": "stream",
          "name": "stdout",
          "text": [
            "tf.Tensor(1, shape=(), dtype=int32)\n",
            "<tf.Variable 'Variable:0' shape=() dtype=int32, numpy=1>\n"
          ]
        }
      ]
    },
    {
      "cell_type": "code",
      "source": [
        "import tensorflow as tf\n",
        "x = tf.constant(4)\n",
        "print(x) \n",
        "print(\"{} 階Tensor\".format(x.ndim)) "
      ],
      "metadata": {
        "colab": {
          "base_uri": "https://localhost:8080/"
        },
        "id": "N3477WgsRWtv",
        "outputId": "379fb5a7-b7ec-4ce7-ce1d-bb41c3cdd276"
      },
      "execution_count": null,
      "outputs": [
        {
          "output_type": "stream",
          "name": "stdout",
          "text": [
            "tf.Tensor(4, shape=(), dtype=int32)\n",
            "0 階Tensor\n"
          ]
        }
      ]
    },
    {
      "cell_type": "code",
      "source": [
        "x = tf.constant([1, 2, 3, 4, 5, 6]) \n",
        "print(\"{}階Tensor \".format(x.ndim))"
      ],
      "metadata": {
        "colab": {
          "base_uri": "https://localhost:8080/"
        },
        "id": "CAGw5gQARZP6",
        "outputId": "38ae0286-f8a3-410e-8cea-27bdd9ff8c75"
      },
      "execution_count": null,
      "outputs": [
        {
          "output_type": "stream",
          "name": "stdout",
          "text": [
            "1階Tensor \n"
          ]
        }
      ]
    },
    {
      "cell_type": "code",
      "source": [
        "x = tf.constant([[1, 2, 3], [4, 5, 6]])\n",
        "print(\"{}階Tensor \".format(x.ndim))"
      ],
      "metadata": {
        "colab": {
          "base_uri": "https://localhost:8080/"
        },
        "id": "vZkbrpyORbYT",
        "outputId": "11ecc61d-8b20-4eb8-e16d-53f8fcf1dfd7"
      },
      "execution_count": null,
      "outputs": [
        {
          "output_type": "stream",
          "name": "stdout",
          "text": [
            "2階Tensor \n"
          ]
        }
      ]
    },
    {
      "cell_type": "code",
      "source": [
        "import numpy as np\n",
        "import tensorflow as tf\n",
        "\n",
        "print(\"Eager Execution 是否啟動: {}\".format(tf.executing_eagerly()))"
      ],
      "metadata": {
        "colab": {
          "base_uri": "https://localhost:8080/"
        },
        "id": "auw2CK9WRcyd",
        "outputId": "a0be39e6-0f31-46bd-ccec-edc8b543c35e"
      },
      "execution_count": null,
      "outputs": [
        {
          "output_type": "stream",
          "name": "stdout",
          "text": [
            "Eager Execution 是否啟動: True\n"
          ]
        }
      ]
    },
    {
      "cell_type": "code",
      "source": [
        "a = tf.constant(3)\n",
        "b = tf.constant(4)\n",
        "print(\"a = {}\".format(a))\n",
        "print(\"b = {}\".format(b))"
      ],
      "metadata": {
        "colab": {
          "base_uri": "https://localhost:8080/"
        },
        "id": "7oU3wi9zRfX0",
        "outputId": "5d3ce320-4e68-4444-f822-702478bda6ce"
      },
      "execution_count": null,
      "outputs": [
        {
          "output_type": "stream",
          "name": "stdout",
          "text": [
            "a = 3\n",
            "b = 4\n"
          ]
        }
      ]
    },
    {
      "cell_type": "code",
      "source": [
        "print(a)\n",
        "print(b)"
      ],
      "metadata": {
        "colab": {
          "base_uri": "https://localhost:8080/"
        },
        "id": "rZW1w4eRRgr4",
        "outputId": "f9d442b3-939c-42f0-f792-3632833999d4"
      },
      "execution_count": null,
      "outputs": [
        {
          "output_type": "stream",
          "name": "stdout",
          "text": [
            "tf.Tensor(3, shape=(), dtype=int32)\n",
            "tf.Tensor(4, shape=(), dtype=int32)\n"
          ]
        }
      ]
    },
    {
      "cell_type": "code",
      "source": [
        "c = a + b\n",
        "print(\"a + b = {}\".format(c))\n",
        "d = a * b\n",
        "print(\"a * b = {}\".format(d))"
      ],
      "metadata": {
        "colab": {
          "base_uri": "https://localhost:8080/"
        },
        "id": "H91Wjs2LRirr",
        "outputId": "aa430e2a-a474-40dd-e030-ec2f711553cb"
      },
      "execution_count": null,
      "outputs": [
        {
          "output_type": "stream",
          "name": "stdout",
          "text": [
            "a + b = 7\n",
            "a * b = 12\n"
          ]
        }
      ]
    },
    {
      "cell_type": "code",
      "source": [
        "a = tf.constant([[1., 2.], [3., 4.]], dtype=tf.float32)\n",
        "b = np.array([[1., 0.], [2., 3.]], dtype=np.float32)\n",
        "print(\"a constant: {}D Tensor\".format(a.ndim))\n",
        "\n",
        "c = a + b\n",
        "print(\"a + b = \\n{}\".format(c))\n",
        "d = tf.matmul(a, b)\n",
        "print(\"a * b = \\n{}\".format(d))"
      ],
      "metadata": {
        "colab": {
          "base_uri": "https://localhost:8080/"
        },
        "id": "lK1COuwsRkZ2",
        "outputId": "72d133e0-cd7e-480e-909e-9377b1fc50ff"
      },
      "execution_count": null,
      "outputs": [
        {
          "output_type": "stream",
          "name": "stdout",
          "text": [
            "a constant: 2D Tensor\n",
            "a + b = \n",
            "[[2. 2.]\n",
            " [5. 7.]]\n",
            "a * b = \n",
            "[[ 5.  6.]\n",
            " [11. 12.]]\n"
          ]
        }
      ]
    },
    {
      "cell_type": "code",
      "source": [
        "print(c)\n",
        "print(\"NumpyArray:\\n {}\".format(c.numpy()))"
      ],
      "metadata": {
        "colab": {
          "base_uri": "https://localhost:8080/"
        },
        "id": "UH_8XFTMRljI",
        "outputId": "4c27ed9d-dd5b-4fd8-b0bd-d515226d2890"
      },
      "execution_count": null,
      "outputs": [
        {
          "output_type": "stream",
          "name": "stdout",
          "text": [
            "tf.Tensor(\n",
            "[[2. 2.]\n",
            " [5. 7.]], shape=(2, 2), dtype=float32)\n",
            "NumpyArray:\n",
            " [[2. 2.]\n",
            " [5. 7.]]\n"
          ]
        }
      ]
    },
    {
      "cell_type": "code",
      "source": [
        "w = tf.Variable([[1.0]])\n",
        "with tf.GradientTape() as tape:\n",
        "    loss = w * w\n",
        "\n",
        "grad = tape.gradient(loss, w)\n",
        "print(grad)"
      ],
      "metadata": {
        "colab": {
          "base_uri": "https://localhost:8080/"
        },
        "id": "qVcvgIkfRmmQ",
        "outputId": "9e68eb64-506b-4a89-bd6b-f0a9498b1477"
      },
      "execution_count": null,
      "outputs": [
        {
          "output_type": "stream",
          "name": "stdout",
          "text": [
            "tf.Tensor([[2.]], shape=(1, 1), dtype=float32)\n"
          ]
        }
      ]
    },
    {
      "cell_type": "code",
      "source": [
        "import tensorflow as tf\n",
        "from tensorflow import keras\n",
        "from tensorflow.keras import layers\n",
        "from tensorflow.keras.utils import plot_model\n",
        "from IPython.display import Image"
      ],
      "metadata": {
        "id": "NQXfNeeoRn6Y"
      },
      "execution_count": null,
      "outputs": []
    },
    {
      "cell_type": "code",
      "source": [
        "model = keras.Sequential(name='Sequential')\n",
        "model.add(layers.Dense(64, activation='relu', input_shape=(784,)))\n",
        "model.add(layers.Dense(64, activation='relu'))\n",
        "model.add(layers.Dense(10, activation='softmax'))"
      ],
      "metadata": {
        "id": "7qy8aNrzRp8v"
      },
      "execution_count": null,
      "outputs": []
    },
    {
      "cell_type": "code",
      "source": [
        "model = tf.keras.Sequential([layers.Dense(64, activation='relu', input_shape=(784,)),\n",
        "                             layers.Dense(64, activation='relu'), \n",
        "                             layers.Dense(10, activation='softmax')])"
      ],
      "metadata": {
        "id": "oUcgxx6pRrKK"
      },
      "execution_count": null,
      "outputs": []
    },
    {
      "cell_type": "code",
      "source": [
        "plot_model(model, to_file='Sequential_Model.png')\n",
        "\n",
        "Image('Sequential_Model.png')"
      ],
      "metadata": {
        "colab": {
          "base_uri": "https://localhost:8080/",
          "height": 369
        },
        "id": "PSTxSAyuRsf9",
        "outputId": "4b537339-f166-45f1-d3d9-1aa3dc460fd9"
      },
      "execution_count": null,
      "outputs": [
        {
          "output_type": "execute_result",
          "data": {
            "image/png": "[encoded data removed]",
            "text/plain": [
              "<IPython.core.display.Image object>"
            ]
          },
          "metadata": {},
          "execution_count": 16
        }
      ]
    },
    {
      "cell_type": "code",
      "source": [
        "inputs = keras.Input(shape=(784,), name='Input')\n",
        "hidden1 = layers.Dense(64, activation='relu', name='hidden1')(inputs)\n",
        "hidden2 = layers.Dense(64, activation='relu', name='hidden2')(hidden1)\n",
        "outputs = layers.Dense(10, activation='softmax', name='Output')(hidden2)\n",
        "\n",
        "model = keras.Model(inputs=inputs, outputs=outputs)\n",
        "\n",
        "plot_model(model, to_file='Functional_API_Sample_Model.png')\n",
        "\n",
        "Image('Functional_API_Sample_Model.png')"
      ],
      "metadata": {
        "colab": {
          "base_uri": "https://localhost:8080/",
          "height": 369
        },
        "id": "7M8gl27IRt9_",
        "outputId": "8d49f3cd-b1e0-447f-a2e4-8218f21e015a"
      },
      "execution_count": null,
      "outputs": [
        {
          "output_type": "execute_result",
          "data": {
            "image/png": "[encoded data removed]",
            "text/plain": [
              "<IPython.core.display.Image object>"
            ]
          },
          "metadata": {},
          "execution_count": 17
        }
      ]
    },
    {
      "cell_type": "code",
      "source": [
        "img_input = keras.Input(shape=(28, 28, 1), name='Image_Input')\n",
        "info_input = keras.Input(shape=(1, ), name='Information_Input')\n",
        "\n",
        "hidden1_1 = layers.Conv2D(64, kernel_size=5, strides=2, activation='relu', name='hidden1_1')(img_input)\n",
        "hidden1_2 = layers.Conv2D(32, kernel_size=5, strides=2, activation='relu', name='hidden1_2')(hidden1_1)\n",
        "hidden1_2_ft= layers.Flatten()(hidden1_2)\n",
        "hidden1_3 = layers.Dense(64, activation='relu', name='hidden1_3')(info_input)\n",
        "concat = layers.Concatenate()([hidden1_2_ft, hidden1_3])\n",
        "hidden2 = layers.Dense(64, activation='relu', name='hidden2')(concat)\n",
        "outputs = layers.Dense(1, name='Output')(hidden2)\n",
        "\n",
        "model = keras.Model(inputs=[img_input, info_input], outputs=outputs)\n",
        "\n",
        "plot_model(model, to_file='Functional_API_Multi_Input_Model.png')\n",
        "\n",
        "Image('Functional_API_Multi_Input_Model.png')"
      ],
      "metadata": {
        "colab": {
          "base_uri": "https://localhost:8080/",
          "height": 661
        },
        "id": "T3nN6DZ-R98j",
        "outputId": "c64b01d5-69ed-4b6d-e477-5ba9697f1dc0"
      },
      "execution_count": null,
      "outputs": [
        {
          "output_type": "execute_result",
          "data": {
            "image/png": "[encoded data removed]",
            "text/plain": [
              "<IPython.core.display.Image object>"
            ]
          },
          "metadata": {},
          "execution_count": 18
        }
      ]
    },
    {
      "cell_type": "code",
      "source": [
        "inputs = keras.Input(shape=(28, 28, 1), name='Input')\n",
        "\n",
        "hidden1 = layers.Conv2D(64, kernel_size=3, activation='relu', name='hidden1')(inputs)\n",
        "hidden2 = layers.Conv2D(64, kernel_size=3, strides=2, activation='relu', name='hidden2')(hidden1)\n",
        "hidden3 = layers.Conv2D(64, kernel_size=3, strides=2, activation='relu', name='hidden3')(hidden2)\n",
        "flatten = layers.Flatten()(hidden3)\n",
        "\n",
        "age_output = layers.Dense(1, name='Age_Output')(flatten)\n",
        "gender_output = layers.Dense(1, name='Gender_Output')(flatten)\n",
        "\n",
        "model = keras.Model(inputs=inputs, outputs=[age_output, gender_output])\n",
        "\n",
        "plot_model(model, to_file='Functional_API_Multi_Output_Model.png')\n",
        "\n",
        "Image('Functional_API_Multi_Output_Model.png')"
      ],
      "metadata": {
        "colab": {
          "base_uri": "https://localhost:8080/",
          "height": 564
        },
        "id": "37t_kFKXSAS7",
        "outputId": "249b559c-5b56-43dc-eb10-d8418c8464a6"
      },
      "execution_count": null,
      "outputs": [
        {
          "output_type": "execute_result",
          "data": {
            "image/png": "[encoded data removed]",
            "text/plain": [
              "<IPython.core.display.Image object>"
            ]
          },
          "metadata": {},
          "execution_count": 19
        }
      ]
    },
    {
      "cell_type": "code",
      "source": [
        "image_inputs = keras.Input(shape=(28, 28, 1), name='Image_Input')\n",
        "hidden1 = layers.Conv2D(64, kernel_size=3, activation='relu', name='hidden1')(image_inputs)\n",
        "hidden2 = layers.Conv2D(64, kernel_size=3, strides=2, activation='relu', name='hidden2')(hidden1)\n",
        "hidden3 = layers.Conv2D(64, kernel_size=3, strides=2, activation='relu', name='hidden3')(hidden2)\n",
        "flatten = layers.Flatten()(hidden3)\n",
        "\n",
        "info_inputs = keras.Input(shape=(10, ), name='Info_Input')\n",
        "hidden4 = layers.Dense(64)(info_inputs)\n",
        "\n",
        "concat = layers.Concatenate()([flatten, hidden4])\n",
        "\n",
        "weather_outputs = layers.Dense(1, name='Output1')(concat)\n",
        "temp_outputs = layers.Dense(1, name='Output2')(concat)\n",
        "humidity_outputs = layers.Dense(1, name='Output3')(concat)\n",
        "\n",
        "model = keras.Model(inputs=[image_inputs, info_inputs], \n",
        "                    outputs=[weather_outputs, temp_outputs, humidity_outputs])\n",
        "\n",
        "plot_model(model, to_file='Functional_API_Multi_Input_Multi_Output_Model.png')\n",
        "\n",
        "Image('Functional_API_Multi_Input_Multi_Output_Model.png')"
      ],
      "metadata": {
        "colab": {
          "base_uri": "https://localhost:8080/",
          "height": 661
        },
        "id": "5lUXeNmgSCdl",
        "outputId": "c1b8a1b3-5fec-4a72-b5f3-d06c16efa7f8"
      },
      "execution_count": null,
      "outputs": [
        {
          "output_type": "execute_result",
          "data": {
            "image/png": "[encoded data removed]",
            "text/plain": [
              "<IPython.core.display.Image object>"
            ]
          },
          "metadata": {},
          "execution_count": 20
        }
      ]
    },
    {
      "cell_type": "code",
      "source": [
        "dataset = tf.data.Dataset.from_tensors(tf.constant([1, 2, 3, 4, 5, 6, 7, 8, 9, 10], shape=(10, )))\n",
        "print(dataset)"
      ],
      "metadata": {
        "colab": {
          "base_uri": "https://localhost:8080/"
        },
        "id": "bmVYGngtSEvv",
        "outputId": "1791e416-b6c2-491c-87fa-77effccd5463"
      },
      "execution_count": null,
      "outputs": [
        {
          "output_type": "stream",
          "name": "stdout",
          "text": [
            "<TensorDataset shapes: (10,), types: tf.int32>\n"
          ]
        }
      ]
    },
    {
      "cell_type": "code",
      "source": [
        "x_data = tf.data.Dataset.from_tensor_slices(tf.constant([0, 1, 2, 3, 4, 5, 6, 7, 8, 9], shape=(10, )))\n",
        "print(x_data)\n",
        "\n",
        "y_data = tf.data.Dataset.from_tensor_slices(tf.constant([0, 2, 4, 6, 8, 10, 12, 14, 16, 18], shape=(10, )))\n",
        "print(y_data)"
      ],
      "metadata": {
        "colab": {
          "base_uri": "https://localhost:8080/"
        },
        "id": "DgrZvFlbSGmh",
        "outputId": "03e7fa1e-76a6-4c04-a584-9f1934affb8f"
      },
      "execution_count": null,
      "outputs": [
        {
          "output_type": "stream",
          "name": "stdout",
          "text": [
            "<TensorSliceDataset shapes: (), types: tf.int32>\n",
            "<TensorSliceDataset shapes: (), types: tf.int32>\n"
          ]
        }
      ]
    },
    {
      "cell_type": "code",
      "source": [
        "for data in dataset:\n",
        "    print(data)"
      ],
      "metadata": {
        "colab": {
          "base_uri": "https://localhost:8080/"
        },
        "id": "UFMTSmnPSIBr",
        "outputId": "2b92940a-de18-4b1d-8e56-18846f92914d"
      },
      "execution_count": null,
      "outputs": [
        {
          "output_type": "stream",
          "name": "stdout",
          "text": [
            "tf.Tensor([ 1  2  3  4  5  6  7  8  9 10], shape=(10,), dtype=int32)\n"
          ]
        }
      ]
    },
    {
      "cell_type": "code",
      "source": [
        "for data1, data2 in zip(x_data, y_data):\n",
        "    print('x: {}, y: {}'.format(data1, data2))"
      ],
      "metadata": {
        "colab": {
          "base_uri": "https://localhost:8080/"
        },
        "id": "uQMJjgLoSJST",
        "outputId": "e242ffee-4d5b-4315-c141-90454e480acb"
      },
      "execution_count": null,
      "outputs": [
        {
          "output_type": "stream",
          "name": "stdout",
          "text": [
            "x: 0, y: 0\n",
            "x: 1, y: 2\n",
            "x: 2, y: 4\n",
            "x: 3, y: 6\n",
            "x: 4, y: 8\n",
            "x: 5, y: 10\n",
            "x: 6, y: 12\n",
            "x: 7, y: 14\n",
            "x: 8, y: 16\n",
            "x: 9, y: 18\n"
          ]
        }
      ]
    },
    {
      "cell_type": "code",
      "source": [
        "for data in dataset:\n",
        "    print(data)"
      ],
      "metadata": {
        "colab": {
          "base_uri": "https://localhost:8080/"
        },
        "id": "OwZODb-8SKU9",
        "outputId": "aa188435-cb70-43a8-b3fd-caac8c3eec5e"
      },
      "execution_count": null,
      "outputs": [
        {
          "output_type": "stream",
          "name": "stdout",
          "text": [
            "tf.Tensor([ 1  2  3  4  5  6  7  8  9 10], shape=(10,), dtype=int32)\n"
          ]
        }
      ]
    },
    {
      "cell_type": "code",
      "source": [
        "for data1, data2 in zip(x_data.take(5), y_data.take(5)):\n",
        "    print('x: {}, y: {}'.format(data1, data2))"
      ],
      "metadata": {
        "colab": {
          "base_uri": "https://localhost:8080/"
        },
        "id": "QY67IJgOSLoQ",
        "outputId": "f3b4c8c3-ec5f-492f-a3ef-01d48ba9fdae"
      },
      "execution_count": null,
      "outputs": [
        {
          "output_type": "stream",
          "name": "stdout",
          "text": [
            "x: 0, y: 0\n",
            "x: 1, y: 2\n",
            "x: 2, y: 4\n",
            "x: 3, y: 6\n",
            "x: 4, y: 8\n"
          ]
        }
      ]
    },
    {
      "cell_type": "code",
      "source": [
        "for data1, data2 in zip(x_data.take(12), y_data.take(12)):\n",
        "    print('x: {}, y: {}'.format(data1, data2))"
      ],
      "metadata": {
        "colab": {
          "base_uri": "https://localhost:8080/"
        },
        "id": "njfZrGU9SMrB",
        "outputId": "e183dccb-c923-47f9-8732-668ab2184c27"
      },
      "execution_count": null,
      "outputs": [
        {
          "output_type": "stream",
          "name": "stdout",
          "text": [
            "x: 0, y: 0\n",
            "x: 1, y: 2\n",
            "x: 2, y: 4\n",
            "x: 3, y: 6\n",
            "x: 4, y: 8\n",
            "x: 5, y: 10\n",
            "x: 6, y: 12\n",
            "x: 7, y: 14\n",
            "x: 8, y: 16\n",
            "x: 9, y: 18\n"
          ]
        }
      ]
    },
    {
      "cell_type": "code",
      "source": [
        "dataset = tf.data.Dataset.zip((x_data, y_data))\n",
        "print(dataset)"
      ],
      "metadata": {
        "colab": {
          "base_uri": "https://localhost:8080/"
        },
        "id": "qp_Nkc1FSNp4",
        "outputId": "21986a34-c775-457f-e55b-ead1c74edaf0"
      },
      "execution_count": null,
      "outputs": [
        {
          "output_type": "stream",
          "name": "stdout",
          "text": [
            "<ZipDataset shapes: ((), ()), types: (tf.int32, tf.int32)>\n"
          ]
        }
      ]
    },
    {
      "cell_type": "code",
      "source": [
        "tf.data.Dataset.range(10).map(lambda x: x*2)"
      ],
      "metadata": {
        "colab": {
          "base_uri": "https://localhost:8080/"
        },
        "id": "1t0Ma2UHSOz2",
        "outputId": "b6aa7e10-3787-4f9c-93a0-37f8e576294e"
      },
      "execution_count": null,
      "outputs": [
        {
          "output_type": "execute_result",
          "data": {
            "text/plain": [
              "<MapDataset shapes: (), types: tf.int64>"
            ]
          },
          "metadata": {},
          "execution_count": 29
        }
      ]
    },
    {
      "cell_type": "code",
      "source": [
        "x = tf.data.Dataset.range(10)\n",
        "y = tf.data.Dataset.range(10).map(lambda x: x*2)\n",
        "\n",
        "dataset = tf.data.Dataset.zip({\"x\": x, \"y\": y})\n",
        "print(dataset)"
      ],
      "metadata": {
        "colab": {
          "base_uri": "https://localhost:8080/"
        },
        "id": "OYZcvvkQSPy4",
        "outputId": "95a6fbd8-1108-4cac-a83e-057c787afb30"
      },
      "execution_count": null,
      "outputs": [
        {
          "output_type": "stream",
          "name": "stdout",
          "text": [
            "<ZipDataset shapes: {x: (), y: ()}, types: {x: tf.int64, y: tf.int64}>\n"
          ]
        }
      ]
    },
    {
      "cell_type": "code",
      "source": [
        "for data in dataset.take(10):\n",
        "    print('x: {}, y: {}'.format(data['x'], data['y']))"
      ],
      "metadata": {
        "colab": {
          "base_uri": "https://localhost:8080/"
        },
        "id": "yd5vm8tWSRJg",
        "outputId": "11d2542f-4426-479e-a1a7-dee7a5456462"
      },
      "execution_count": null,
      "outputs": [
        {
          "output_type": "stream",
          "name": "stdout",
          "text": [
            "x: 0, y: 0\n",
            "x: 1, y: 2\n",
            "x: 2, y: 4\n",
            "x: 3, y: 6\n",
            "x: 4, y: 8\n",
            "x: 5, y: 10\n",
            "x: 6, y: 12\n",
            "x: 7, y: 14\n",
            "x: 8, y: 16\n",
            "x: 9, y: 18\n"
          ]
        }
      ]
    },
    {
      "cell_type": "code",
      "source": [
        "dataset = tf.data.Dataset.zip({\"x\": x, \"y\": y}).batch(2)\n",
        "\n",
        "for data in dataset.take(5):\n",
        "    print('x: {}, y: {}'.format(data['x'], data['y']))"
      ],
      "metadata": {
        "colab": {
          "base_uri": "https://localhost:8080/"
        },
        "id": "QlfDqY7XSSrO",
        "outputId": "c2c179fc-43a6-4aa4-912b-8f5798e3adfa"
      },
      "execution_count": null,
      "outputs": [
        {
          "output_type": "stream",
          "name": "stdout",
          "text": [
            "x: [0 1], y: [0 2]\n",
            "x: [2 3], y: [4 6]\n",
            "x: [4 5], y: [ 8 10]\n",
            "x: [6 7], y: [12 14]\n",
            "x: [8 9], y: [16 18]\n"
          ]
        }
      ]
    },
    {
      "cell_type": "code",
      "source": [
        "dataset = dataset.shuffle(10)\n",
        "for data in dataset.take(5):\n",
        "    print('x: {}, y: {}'.format(data['x'], data['y']))"
      ],
      "metadata": {
        "colab": {
          "base_uri": "https://localhost:8080/"
        },
        "id": "vNQcGZvoSUGQ",
        "outputId": "ea36d336-9edd-4d0c-e12c-83a87f0f7ed9"
      },
      "execution_count": null,
      "outputs": [
        {
          "output_type": "stream",
          "name": "stdout",
          "text": [
            "x: [2 3], y: [4 6]\n",
            "x: [4 5], y: [ 8 10]\n",
            "x: [8 9], y: [16 18]\n",
            "x: [0 1], y: [0 2]\n",
            "x: [6 7], y: [12 14]\n"
          ]
        }
      ]
    },
    {
      "cell_type": "code",
      "source": [
        "for data in dataset.take(10):\n",
        "    print('x: {}, y: {}'.format(data['x'], data['y']))\n",
        "\n",
        "    \n",
        "print('-' * 50)\n",
        "dataset = dataset.repeat(2)\n",
        "for data in dataset.take(10):\n",
        "    print('x: {}, y: {}'.format(data['x'], data['y']))"
      ],
      "metadata": {
        "colab": {
          "base_uri": "https://localhost:8080/"
        },
        "id": "v4vqzkbCSVvs",
        "outputId": "7020ff8d-4d13-45b4-f98a-722988d48dfd"
      },
      "execution_count": null,
      "outputs": [
        {
          "output_type": "stream",
          "name": "stdout",
          "text": [
            "x: [8 9], y: [16 18]\n",
            "x: [2 3], y: [4 6]\n",
            "x: [0 1], y: [0 2]\n",
            "x: [6 7], y: [12 14]\n",
            "x: [4 5], y: [ 8 10]\n",
            "--------------------------------------------------\n",
            "x: [4 5], y: [ 8 10]\n",
            "x: [6 7], y: [12 14]\n",
            "x: [2 3], y: [4 6]\n",
            "x: [0 1], y: [0 2]\n",
            "x: [8 9], y: [16 18]\n",
            "x: [4 5], y: [ 8 10]\n",
            "x: [2 3], y: [4 6]\n",
            "x: [0 1], y: [0 2]\n",
            "x: [6 7], y: [12 14]\n",
            "x: [8 9], y: [16 18]\n"
          ]
        }
      ]
    },
    {
      "cell_type": "code",
      "source": [
        ""
      ],
      "metadata": {
        "id": "HkiFXZgqSXG6"
      },
      "execution_count": null,
      "outputs": []
    }
  ]
}